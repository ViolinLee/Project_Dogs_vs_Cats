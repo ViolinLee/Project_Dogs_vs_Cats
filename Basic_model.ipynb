{
 "cells": [
  {
   "cell_type": "code",
   "execution_count": 1,
   "metadata": {},
   "outputs": [
    {
     "name": "stderr",
     "output_type": "stream",
     "text": [
      "Using TensorFlow backend.\n"
     ]
    },
    {
     "data": {
      "text/plain": [
       "'2.1.5'"
      ]
     },
     "execution_count": 1,
     "metadata": {},
     "output_type": "execute_result"
    }
   ],
   "source": [
    "import keras\n",
    "keras.__version__"
   ]
  },
  {
   "cell_type": "markdown",
   "metadata": {},
   "source": [
    "### 准备数据"
   ]
  },
  {
   "cell_type": "code",
   "execution_count": null,
   "metadata": {},
   "outputs": [],
   "source": [
    "import os, shutil\n",
    "\n",
    "# defined directories of training set, validation set and test set\n",
    "origin_train_dir = '/home/leechan/Documents/Capstone_Dog vs. Cats/Project_Dogs_vs_Cats/Dataset_Dogs_vs_Cats/train'\n",
    "origin_test_dir = '/home/leechan/Documents/Capstone_Dog vs. Cats/Project_Dogs_vs_Cats/Dataset_Dogs_vs_Cats/test1'\n",
    "base_dir = '/home/leechan/Documents/Capstone_Dog vs. Cats/Project_Dogs_vs_Cats/Dataset_Dogs_vs_Cats/base'\n",
    "os.mkdir(base_dir)\n",
    "\n",
    "train_dir = os.path.join(base_dir, 'train_dir')\n",
    "os.mkdir(train_dir)\n",
    "\n",
    "validation_dir = os.path.join(base_dir, 'validation_dir')\n",
    "os.mkdir(validation_dir)\n",
    "\n",
    "test_dir = os.path.join(base_dir, 'test_dir')\n",
    "os.mkdir(test_dir)\n",
    "\n",
    "# defined more specific directory with dog or cat pictures\n",
    "train_cats_dir = os.path.join(train_dir, 'cats')\n",
    "os.mkdir(train_cats_dir)\n",
    "\n",
    "train_dogs_dir = os.path.join(train_dir, 'dogs')\n",
    "os.mkdir(train_dogs_dir)\n",
    "\n",
    "validation_cats_dir = os.path.join(validation_dir, 'cats')\n",
    "os.mkdir(validation_cats_dir)\n",
    "\n",
    "validation_dogs_dir = os.path.join(validation_dir, 'dogs')\n",
    "os.mkdir(validation_dogs_dir)\n",
    "\n",
    "# for feature extraction\n",
    "test_image_dir = os.path.join(test_dir, 'test')\n",
    "os.mkdir(test_image_dir)\n",
    "\n",
    "# Copy images to the above defined directories\n",
    "filenames = ['cat.{}.jpg'.format(i) for i in range(10000)]\n",
    "for filename in filenames:\n",
    "    src = os.path.join(origin_train_dir, filename)\n",
    "    dst = os.path.join(train_cats_dir, filename)\n",
    "    shutil.copyfile(src, dst)\n",
    "    \n",
    "filenames = ['dog.{}.jpg'.format(i) for i in range(10000)]\n",
    "for filename in filenames:\n",
    "    src = os.path.join(origin_train_dir, filename)\n",
    "    dst = os.path.join(train_dogs_dir, filename)\n",
    "    shutil.copyfile(src, dst)\n",
    "    \n",
    "filenames = ['cat.{}.jpg'.format(i) for i in range(10000, 12500)]\n",
    "for filename in filenames:\n",
    "    src = os.path.join(origin_train_dir, filename)\n",
    "    dst = os.path.join(validation_cats_dir, filename)\n",
    "    shutil.copyfile(src, dst)\n",
    "    \n",
    "filenames = ['dog.{}.jpg'.format(i) for i in range(10000, 12500)]\n",
    "for filename in filenames:\n",
    "    src = os.path.join(origin_train_dir, filename)\n",
    "    dst = os.path.join(validation_dogs_dir, filename)\n",
    "    shutil.copyfile(src, dst)\n",
    "\n",
    "filenames = ['{}.jpg'.format(i) for i in range(1,12501)]\n",
    "for filename in filenames:\n",
    "    src = os.path.join(origin_test_dir, filename)\n",
    "    dst = os.path.join(test_image_dir, filename)\n",
    "    shutil.copyfile(src, dst)"
   ]
  },
  {
   "cell_type": "markdown",
   "metadata": {},
   "source": [
    "在这里我们可以发现，在测试集和验证集中，两种类别的图片数量是相同的（事实上我们从Kaggle网站也可以确定测试集也存在这个特点）。因此这是一个平衡的二元分类问题（balanced binary classification），这意味着分类精度（accuracy）是一个合适的衡量分类结果好坏的标准。\n"
   ]
  },
  {
   "cell_type": "markdown",
   "metadata": {},
   "source": [
    "### 搭建CNN模型\n",
    "设计一个比随机猜测结果要好的基础模型。"
   ]
  },
  {
   "cell_type": "code",
   "execution_count": 2,
   "metadata": {},
   "outputs": [],
   "source": [
    "from keras import layers\n",
    "from keras import models\n",
    "\n",
    "model = models.Sequential()\n",
    "model.add(layers.Conv2D(32, (3, 3), activation='relu',\n",
    "                        input_shape=(224, 224, 3)))\n",
    "model.add(layers.MaxPooling2D((2, 2)))\n",
    "model.add(layers.Conv2D(64, (3, 3), activation='relu'))\n",
    "model.add(layers.MaxPooling2D((2, 2)))\n",
    "model.add(layers.Conv2D(128, (3, 3), activation='relu'))\n",
    "model.add(layers.MaxPooling2D((2, 2)))\n",
    "model.add(layers.Conv2D(128, (3, 3), activation='relu'))\n",
    "model.add(layers.MaxPooling2D((2, 2)))\n",
    "model.add(layers.Flatten())\n",
    "model.add(layers.Dense(512, activation='relu'))\n",
    "model.add(layers.Dense(1, activation='sigmoid'))"
   ]
  },
  {
   "cell_type": "code",
   "execution_count": 3,
   "metadata": {},
   "outputs": [
    {
     "name": "stdout",
     "output_type": "stream",
     "text": [
      "_________________________________________________________________\n",
      "Layer (type)                 Output Shape              Param #   \n",
      "=================================================================\n",
      "conv2d_1 (Conv2D)            (None, 222, 222, 32)      896       \n",
      "_________________________________________________________________\n",
      "max_pooling2d_1 (MaxPooling2 (None, 111, 111, 32)      0         \n",
      "_________________________________________________________________\n",
      "conv2d_2 (Conv2D)            (None, 109, 109, 64)      18496     \n",
      "_________________________________________________________________\n",
      "max_pooling2d_2 (MaxPooling2 (None, 54, 54, 64)        0         \n",
      "_________________________________________________________________\n",
      "conv2d_3 (Conv2D)            (None, 52, 52, 128)       73856     \n",
      "_________________________________________________________________\n",
      "max_pooling2d_3 (MaxPooling2 (None, 26, 26, 128)       0         \n",
      "_________________________________________________________________\n",
      "conv2d_4 (Conv2D)            (None, 24, 24, 128)       147584    \n",
      "_________________________________________________________________\n",
      "max_pooling2d_4 (MaxPooling2 (None, 12, 12, 128)       0         \n",
      "_________________________________________________________________\n",
      "flatten_1 (Flatten)          (None, 18432)             0         \n",
      "_________________________________________________________________\n",
      "dense_1 (Dense)              (None, 512)               9437696   \n",
      "_________________________________________________________________\n",
      "dense_2 (Dense)              (None, 1)                 513       \n",
      "=================================================================\n",
      "Total params: 9,679,041\n",
      "Trainable params: 9,679,041\n",
      "Non-trainable params: 0\n",
      "_________________________________________________________________\n"
     ]
    }
   ],
   "source": [
    "model.summary()"
   ]
  },
  {
   "cell_type": "code",
   "execution_count": 4,
   "metadata": {},
   "outputs": [],
   "source": [
    "from keras.utils import plot_model\n",
    "\n",
    "plot_model(model, to_file='model.png')"
   ]
  },
  {
   "cell_type": "code",
   "execution_count": 5,
   "metadata": {},
   "outputs": [],
   "source": [
    "from keras import optimizers\n",
    "\n",
    "model.compile(loss='binary_crossentropy',\n",
    "              optimizer=optimizers.RMSprop(lr=1e-4),\n",
    "              metrics=['acc'])"
   ]
  },
  {
   "cell_type": "code",
   "execution_count": 6,
   "metadata": {},
   "outputs": [],
   "source": [
    "import os, shutil\n",
    "\n",
    "base_dir = '/home/leechan/Documents/Capstone_Dog vs. Cats/Project_Dogs_vs_Cats/Dataset_Dogs_vs_Cats/base'\n",
    "\n",
    "train_dir = os.path.join(base_dir, 'train_dir')\n",
    "validation_dir = os.path.join(base_dir, 'validation_dir')\n",
    "test_dir = os.path.join(base_dir, 'test_dir')"
   ]
  },
  {
   "cell_type": "code",
   "execution_count": 7,
   "metadata": {},
   "outputs": [
    {
     "name": "stdout",
     "output_type": "stream",
     "text": [
      "Found 20000 images belonging to 2 classes.\n",
      "Found 5000 images belonging to 2 classes.\n"
     ]
    }
   ],
   "source": [
    "from keras.preprocessing.image import ImageDataGenerator\n",
    "\n",
    "# All images will be rescaled by 1./255\n",
    "train_datagen = ImageDataGenerator(rescale=1./255)\n",
    "test_datagen = ImageDataGenerator(rescale=1./255)\n",
    "\n",
    "train_generator = train_datagen.flow_from_directory(\n",
    "        # This is the target directory\n",
    "        train_dir,\n",
    "        # All images will be resized to 150x150\n",
    "        target_size=(224, 224),\n",
    "        batch_size=100,\n",
    "        # Since we use binary_crossentropy loss, we need binary labels\n",
    "        class_mode='binary')\n",
    "\n",
    "validation_generator = test_datagen.flow_from_directory(\n",
    "        validation_dir,\n",
    "        target_size=(224, 224),\n",
    "        batch_size=100,\n",
    "        class_mode='binary')"
   ]
  },
  {
   "cell_type": "code",
   "execution_count": 8,
   "metadata": {},
   "outputs": [
    {
     "name": "stdout",
     "output_type": "stream",
     "text": [
      "Epoch 1/30\n",
      "200/200 [==============================] - 277s 1s/step - loss: 0.6424 - acc: 0.6202 - val_loss: 0.5598 - val_acc: 0.7208\n",
      "Epoch 2/30\n",
      "200/200 [==============================] - 77s 386ms/step - loss: 0.5409 - acc: 0.7275 - val_loss: 0.5147 - val_acc: 0.7440\n",
      "Epoch 3/30\n",
      "200/200 [==============================] - 77s 385ms/step - loss: 0.4858 - acc: 0.7645 - val_loss: 0.4637 - val_acc: 0.7774\n",
      "Epoch 4/30\n",
      "200/200 [==============================] - 77s 386ms/step - loss: 0.4501 - acc: 0.7877 - val_loss: 0.4380 - val_acc: 0.7942\n",
      "Epoch 5/30\n",
      "200/200 [==============================] - 77s 387ms/step - loss: 0.4219 - acc: 0.8066 - val_loss: 0.4232 - val_acc: 0.8056\n",
      "Epoch 6/30\n",
      "200/200 [==============================] - 77s 386ms/step - loss: 0.3979 - acc: 0.8206 - val_loss: 0.4175 - val_acc: 0.8062\n",
      "Epoch 7/30\n",
      "200/200 [==============================] - 77s 387ms/step - loss: 0.3744 - acc: 0.8319 - val_loss: 0.4012 - val_acc: 0.8182\n",
      "Epoch 8/30\n",
      "200/200 [==============================] - 78s 388ms/step - loss: 0.3558 - acc: 0.8436 - val_loss: 0.3816 - val_acc: 0.8308\n",
      "Epoch 9/30\n",
      "200/200 [==============================] - 77s 386ms/step - loss: 0.3295 - acc: 0.8562 - val_loss: 0.3725 - val_acc: 0.8318\n",
      "Epoch 10/30\n",
      "200/200 [==============================] - 77s 387ms/step - loss: 0.3080 - acc: 0.8677 - val_loss: 0.4486 - val_acc: 0.8012\n",
      "Epoch 11/30\n",
      "200/200 [==============================] - 77s 386ms/step - loss: 0.2875 - acc: 0.8757 - val_loss: 0.5366 - val_acc: 0.7680\n",
      "Epoch 12/30\n",
      "200/200 [==============================] - 77s 387ms/step - loss: 0.2687 - acc: 0.8839 - val_loss: 0.3979 - val_acc: 0.8282\n",
      "Epoch 13/30\n",
      "200/200 [==============================] - 77s 387ms/step - loss: 0.2451 - acc: 0.8975 - val_loss: 0.4423 - val_acc: 0.8056\n",
      "Epoch 14/30\n",
      "200/200 [==============================] - 77s 387ms/step - loss: 0.2281 - acc: 0.9063 - val_loss: 0.4469 - val_acc: 0.8116\n",
      "Epoch 15/30\n",
      "200/200 [==============================] - 77s 387ms/step - loss: 0.2022 - acc: 0.9180 - val_loss: 0.4157 - val_acc: 0.8252\n",
      "Epoch 16/30\n",
      "200/200 [==============================] - 77s 387ms/step - loss: 0.1835 - acc: 0.9270 - val_loss: 0.4010 - val_acc: 0.8412\n",
      "Epoch 17/30\n",
      "200/200 [==============================] - 77s 387ms/step - loss: 0.1629 - acc: 0.9361 - val_loss: 0.3837 - val_acc: 0.8510\n",
      "Epoch 18/30\n",
      "200/200 [==============================] - 78s 388ms/step - loss: 0.1424 - acc: 0.9453 - val_loss: 0.3969 - val_acc: 0.8426\n",
      "Epoch 19/30\n",
      "200/200 [==============================] - 78s 388ms/step - loss: 0.1254 - acc: 0.9521 - val_loss: 0.4295 - val_acc: 0.8426\n",
      "Epoch 20/30\n",
      "200/200 [==============================] - 77s 386ms/step - loss: 0.1102 - acc: 0.9595 - val_loss: 0.4225 - val_acc: 0.8526\n",
      "Epoch 21/30\n",
      "200/200 [==============================] - 77s 387ms/step - loss: 0.0943 - acc: 0.9664 - val_loss: 0.4212 - val_acc: 0.8476\n",
      "Epoch 22/30\n",
      "200/200 [==============================] - 77s 387ms/step - loss: 0.0750 - acc: 0.9752 - val_loss: 0.4877 - val_acc: 0.8380\n",
      "Epoch 23/30\n",
      "200/200 [==============================] - 77s 387ms/step - loss: 0.0646 - acc: 0.9790 - val_loss: 0.5505 - val_acc: 0.8342\n",
      "Epoch 24/30\n",
      "200/200 [==============================] - 77s 387ms/step - loss: 0.0570 - acc: 0.9823 - val_loss: 0.4995 - val_acc: 0.8518\n",
      "Epoch 25/30\n",
      "200/200 [==============================] - 77s 386ms/step - loss: 0.0470 - acc: 0.9867 - val_loss: 0.5805 - val_acc: 0.8374\n",
      "Epoch 26/30\n",
      "200/200 [==============================] - 77s 387ms/step - loss: 0.0469 - acc: 0.9861 - val_loss: 0.5958 - val_acc: 0.8430\n",
      "Epoch 27/30\n",
      "200/200 [==============================] - 77s 386ms/step - loss: 0.0401 - acc: 0.9885 - val_loss: 0.5958 - val_acc: 0.8534\n",
      "Epoch 28/30\n",
      "200/200 [==============================] - 77s 387ms/step - loss: 0.0346 - acc: 0.9897 - val_loss: 0.6371 - val_acc: 0.8464\n",
      "Epoch 29/30\n",
      "200/200 [==============================] - 77s 386ms/step - loss: 0.0329 - acc: 0.9907 - val_loss: 0.6000 - val_acc: 0.8446\n",
      "Epoch 30/30\n",
      "200/200 [==============================] - 77s 387ms/step - loss: 0.0296 - acc: 0.9915 - val_loss: 1.5342 - val_acc: 0.7394\n"
     ]
    }
   ],
   "source": [
    "history = model.fit_generator(\n",
    "      train_generator,\n",
    "      steps_per_epoch=200,\n",
    "      epochs=30,\n",
    "      validation_data=validation_generator,\n",
    "      validation_steps=50)"
   ]
  },
  {
   "cell_type": "code",
   "execution_count": 9,
   "metadata": {},
   "outputs": [],
   "source": [
    "model.save('cats_vs_dogs_basic_1.h5')"
   ]
  },
  {
   "cell_type": "code",
   "execution_count": 11,
   "metadata": {},
   "outputs": [
    {
     "data": {
      "image/png": "[encoded data removed]",
      "text/plain": [
       "<Figure size 432x288 with 1 Axes>"
      ]
     },
     "metadata": {},
     "output_type": "display_data"
    },
    {
     "data": {
      "image/png": "[encoded data removed]",
      "text/plain": [
       "<Figure size 432x288 with 1 Axes>"
      ]
     },
     "metadata": {},
     "output_type": "display_data"
    }
   ],
   "source": [
    "import matplotlib.pyplot as plt\n",
    "\n",
    "acc = history.history['acc']\n",
    "val_acc = history.history['val_acc']\n",
    "loss = history.history['loss']\n",
    "val_loss = history.history['val_loss']\n",
    "\n",
    "epochs = range(len(acc))\n",
    "\n",
    "plt.plot(epochs, acc, 'bo', label='Training acc')\n",
    "plt.plot(epochs, val_acc, 'b', label='Validation acc')\n",
    "plt.title('Training and validation accuracy')\n",
    "plt.legend()\n",
    "\n",
    "plt.figure()\n",
    "\n",
    "plt.plot(epochs, loss, 'bo', label='Training loss')\n",
    "plt.plot(epochs, val_loss, 'b', label='Validation loss')\n",
    "plt.title('Training and validation loss')\n",
    "plt.legend()\n",
    "\n",
    "plt.show()"
   ]
  },
  {
   "cell_type": "markdown",
   "metadata": {},
   "source": [
    "在验证集上的分类准确率大概为85%左右,moxing guo ni he。"
   ]
  },
  {
   "cell_type": "markdown",
   "metadata": {},
   "source": [
    "### 使用数据增强技术\n",
    "如果使用这个数据增强的配置来训练一个新的网络，是不会有两次相同的输入的。但是，这些输入仍然是相互关联的，因为它们来自少量的原始图像，我们不能产生新的信息，而只能重新混合现有的信息。因此，这可能不足以完全摆脱过度拟合。为了进一步克服过度拟合，我们还将在我们的模型中全连接层分类器的前面添加一个dropout层："
   ]
  },
  {
   "cell_type": "code",
   "execution_count": 12,
   "metadata": {},
   "outputs": [],
   "source": [
    "model = models.Sequential()\n",
    "model.add(layers.Conv2D(32, (3, 3), activation='relu',\n",
    "                        input_shape=(224, 224, 3)))\n",
    "model.add(layers.MaxPooling2D((2, 2)))\n",
    "model.add(layers.Conv2D(64, (3, 3), activation='relu'))\n",
    "model.add(layers.MaxPooling2D((2, 2)))\n",
    "model.add(layers.Conv2D(128, (3, 3), activation='relu'))\n",
    "model.add(layers.MaxPooling2D((2, 2)))\n",
    "model.add(layers.Conv2D(128, (3, 3), activation='relu'))\n",
    "model.add(layers.MaxPooling2D((2, 2)))\n",
    "model.add(layers.Flatten())\n",
    "model.add(layers.Dropout(0.5))\n",
    "model.add(layers.Dense(512, activation='relu'))\n",
    "model.add(layers.Dense(1, activation='sigmoid'))\n",
    "\n",
    "model.compile(loss='binary_crossentropy',\n",
    "              optimizer=optimizers.RMSprop(lr=1e-4),\n",
    "              metrics=['acc'])"
   ]
  },
  {
   "cell_type": "code",
   "execution_count": 13,
   "metadata": {},
   "outputs": [
    {
     "name": "stdout",
     "output_type": "stream",
     "text": [
      "Found 20000 images belonging to 2 classes.\n",
      "Found 5000 images belonging to 2 classes.\n",
      "Epoch 1/100\n",
      "200/200 [==============================] - 198s 989ms/step - loss: 0.6648 - acc: 0.5855 - val_loss: 0.5860 - val_acc: 0.6982\n",
      "Epoch 2/100\n",
      "200/200 [==============================] - 187s 935ms/step - loss: 0.6079 - acc: 0.6641 - val_loss: 0.5431 - val_acc: 0.7274\n",
      "Epoch 3/100\n",
      "200/200 [==============================] - 188s 938ms/step - loss: 0.5837 - acc: 0.6867 - val_loss: 0.5620 - val_acc: 0.7120\n",
      "Epoch 4/100\n",
      "200/200 [==============================] - 189s 945ms/step - loss: 0.5594 - acc: 0.7083 - val_loss: 0.5081 - val_acc: 0.7554\n",
      "Epoch 5/100\n",
      "200/200 [==============================] - 189s 943ms/step - loss: 0.5459 - acc: 0.7208 - val_loss: 0.4756 - val_acc: 0.7774\n",
      "Epoch 6/100\n",
      "200/200 [==============================] - 188s 940ms/step - loss: 0.5333 - acc: 0.7306 - val_loss: 0.4770 - val_acc: 0.7746\n",
      "Epoch 7/100\n",
      "200/200 [==============================] - 187s 933ms/step - loss: 0.5230 - acc: 0.7304 - val_loss: 0.4946 - val_acc: 0.7618\n",
      "Epoch 8/100\n",
      "200/200 [==============================] - 186s 931ms/step - loss: 0.5111 - acc: 0.7444 - val_loss: 0.4402 - val_acc: 0.8034\n",
      "Epoch 9/100\n",
      "200/200 [==============================] - 188s 939ms/step - loss: 0.5008 - acc: 0.7529 - val_loss: 0.4528 - val_acc: 0.7948\n",
      "Epoch 10/100\n",
      "200/200 [==============================] - 186s 932ms/step - loss: 0.4948 - acc: 0.7587 - val_loss: 0.4220 - val_acc: 0.8084\n",
      "Epoch 11/100\n",
      "200/200 [==============================] - 186s 929ms/step - loss: 0.4832 - acc: 0.7660 - val_loss: 0.4208 - val_acc: 0.8096\n",
      "Epoch 12/100\n",
      "200/200 [==============================] - 188s 939ms/step - loss: 0.4722 - acc: 0.7724 - val_loss: 0.4126 - val_acc: 0.8192\n",
      "Epoch 13/100\n",
      "200/200 [==============================] - 188s 940ms/step - loss: 0.4653 - acc: 0.7777 - val_loss: 0.3938 - val_acc: 0.8220\n",
      "Epoch 14/100\n",
      "200/200 [==============================] - 188s 942ms/step - loss: 0.4627 - acc: 0.7806 - val_loss: 0.4021 - val_acc: 0.8184\n",
      "Epoch 15/100\n",
      "200/200 [==============================] - 188s 942ms/step - loss: 0.4565 - acc: 0.7815 - val_loss: 0.3750 - val_acc: 0.8310\n",
      "Epoch 16/100\n",
      "200/200 [==============================] - 189s 945ms/step - loss: 0.4481 - acc: 0.7919 - val_loss: 0.3883 - val_acc: 0.8290\n",
      "Epoch 17/100\n",
      "200/200 [==============================] - 188s 940ms/step - loss: 0.4423 - acc: 0.7921 - val_loss: 0.3845 - val_acc: 0.8274\n",
      "Epoch 18/100\n",
      "200/200 [==============================] - 188s 939ms/step - loss: 0.4374 - acc: 0.7947 - val_loss: 0.3798 - val_acc: 0.8336\n",
      "Epoch 19/100\n",
      "200/200 [==============================] - 188s 942ms/step - loss: 0.4299 - acc: 0.8029 - val_loss: 0.3751 - val_acc: 0.8368\n",
      "Epoch 20/100\n",
      "200/200 [==============================] - 187s 937ms/step - loss: 0.4261 - acc: 0.8038 - val_loss: 0.3968 - val_acc: 0.8254\n",
      "Epoch 21/100\n",
      "200/200 [==============================] - 189s 944ms/step - loss: 0.4161 - acc: 0.8075 - val_loss: 0.3437 - val_acc: 0.8498\n",
      "Epoch 22/100\n",
      "200/200 [==============================] - 188s 939ms/step - loss: 0.4120 - acc: 0.8127 - val_loss: 0.3649 - val_acc: 0.8384\n",
      "Epoch 23/100\n",
      "200/200 [==============================] - 188s 938ms/step - loss: 0.4049 - acc: 0.8148 - val_loss: 0.3644 - val_acc: 0.8416\n",
      "Epoch 24/100\n",
      "200/200 [==============================] - 188s 938ms/step - loss: 0.4021 - acc: 0.8168 - val_loss: 0.3424 - val_acc: 0.8498\n",
      "Epoch 25/100\n",
      "200/200 [==============================] - 188s 938ms/step - loss: 0.3946 - acc: 0.8204 - val_loss: 0.3203 - val_acc: 0.8650\n",
      "Epoch 26/100\n",
      "200/200 [==============================] - 188s 942ms/step - loss: 0.3912 - acc: 0.8229 - val_loss: 0.3286 - val_acc: 0.8566\n",
      "Epoch 27/100\n",
      "200/200 [==============================] - 187s 937ms/step - loss: 0.3791 - acc: 0.8305 - val_loss: 0.3098 - val_acc: 0.8682\n",
      "Epoch 28/100\n",
      "200/200 [==============================] - 187s 936ms/step - loss: 0.3784 - acc: 0.8300 - val_loss: 0.3458 - val_acc: 0.8518\n",
      "Epoch 29/100\n",
      "200/200 [==============================] - 188s 938ms/step - loss: 0.3721 - acc: 0.8355 - val_loss: 0.3181 - val_acc: 0.8684\n",
      "Epoch 30/100\n",
      "200/200 [==============================] - 188s 942ms/step - loss: 0.3662 - acc: 0.8361 - val_loss: 0.3393 - val_acc: 0.8486\n",
      "Epoch 31/100\n",
      "200/200 [==============================] - 188s 938ms/step - loss: 0.3652 - acc: 0.8358 - val_loss: 0.3363 - val_acc: 0.8548\n",
      "Epoch 32/100\n",
      "200/200 [==============================] - 188s 939ms/step - loss: 0.3569 - acc: 0.8420 - val_loss: 0.2962 - val_acc: 0.8718\n",
      "Epoch 33/100\n",
      "200/200 [==============================] - 188s 940ms/step - loss: 0.3500 - acc: 0.8450 - val_loss: 0.2945 - val_acc: 0.8738\n",
      "Epoch 34/100\n",
      "200/200 [==============================] - 189s 944ms/step - loss: 0.3480 - acc: 0.8468 - val_loss: 0.2864 - val_acc: 0.8802\n",
      "Epoch 35/100\n",
      "200/200 [==============================] - 188s 941ms/step - loss: 0.3437 - acc: 0.8488 - val_loss: 0.2941 - val_acc: 0.8776\n",
      "Epoch 36/100\n",
      "200/200 [==============================] - 188s 941ms/step - loss: 0.3374 - acc: 0.8530 - val_loss: 0.2858 - val_acc: 0.8798\n",
      "Epoch 37/100\n",
      "200/200 [==============================] - 187s 935ms/step - loss: 0.3354 - acc: 0.8522 - val_loss: 0.2728 - val_acc: 0.8870\n",
      "Epoch 38/100\n",
      "200/200 [==============================] - 187s 935ms/step - loss: 0.3303 - acc: 0.8575 - val_loss: 0.2615 - val_acc: 0.8914\n",
      "Epoch 39/100\n",
      "200/200 [==============================] - 187s 936ms/step - loss: 0.3264 - acc: 0.8559 - val_loss: 0.2893 - val_acc: 0.8850\n",
      "Epoch 40/100\n",
      "200/200 [==============================] - 187s 937ms/step - loss: 0.3233 - acc: 0.8585 - val_loss: 0.3033 - val_acc: 0.8786\n",
      "Epoch 41/100\n",
      "200/200 [==============================] - 187s 933ms/step - loss: 0.3168 - acc: 0.8646 - val_loss: 0.2740 - val_acc: 0.8878\n",
      "Epoch 42/100\n",
      "200/200 [==============================] - 187s 936ms/step - loss: 0.3143 - acc: 0.8640 - val_loss: 0.2919 - val_acc: 0.8796\n",
      "Epoch 43/100\n",
      "200/200 [==============================] - 187s 935ms/step - loss: 0.3113 - acc: 0.8669 - val_loss: 0.2893 - val_acc: 0.8794\n",
      "Epoch 44/100\n",
      "200/200 [==============================] - 187s 933ms/step - loss: 0.3075 - acc: 0.8662 - val_loss: 0.2434 - val_acc: 0.8972\n",
      "Epoch 45/100\n",
      "200/200 [==============================] - 187s 935ms/step - loss: 0.3062 - acc: 0.8690 - val_loss: 0.2693 - val_acc: 0.8914\n",
      "Epoch 46/100\n",
      "200/200 [==============================] - 187s 937ms/step - loss: 0.3044 - acc: 0.8694 - val_loss: 0.2397 - val_acc: 0.9052\n",
      "Epoch 47/100\n",
      "200/200 [==============================] - 188s 939ms/step - loss: 0.2941 - acc: 0.8743 - val_loss: 0.2463 - val_acc: 0.9014\n",
      "Epoch 48/100\n",
      "200/200 [==============================] - 187s 936ms/step - loss: 0.2906 - acc: 0.8743 - val_loss: 0.2597 - val_acc: 0.8940\n",
      "Epoch 49/100\n",
      "200/200 [==============================] - 188s 939ms/step - loss: 0.2930 - acc: 0.8748 - val_loss: 0.2549 - val_acc: 0.8980\n",
      "Epoch 50/100\n",
      "200/200 [==============================] - 188s 939ms/step - loss: 0.2899 - acc: 0.8766 - val_loss: 0.2552 - val_acc: 0.8948\n",
      "Epoch 51/100\n",
      "200/200 [==============================] - 187s 934ms/step - loss: 0.2856 - acc: 0.8768 - val_loss: 0.2225 - val_acc: 0.9128\n",
      "Epoch 52/100\n",
      "200/200 [==============================] - 188s 938ms/step - loss: 0.2879 - acc: 0.8746 - val_loss: 0.3189 - val_acc: 0.8728\n",
      "Epoch 53/100\n",
      "200/200 [==============================] - 188s 941ms/step - loss: 0.2795 - acc: 0.8826 - val_loss: 0.2188 - val_acc: 0.9114\n",
      "Epoch 54/100\n",
      "200/200 [==============================] - 188s 940ms/step - loss: 0.2824 - acc: 0.8801 - val_loss: 0.2447 - val_acc: 0.9062\n",
      "Epoch 55/100\n",
      "200/200 [==============================] - 188s 939ms/step - loss: 0.2742 - acc: 0.8804 - val_loss: 0.2257 - val_acc: 0.9102\n",
      "Epoch 56/100\n",
      "200/200 [==============================] - 189s 943ms/step - loss: 0.2720 - acc: 0.8823 - val_loss: 0.2406 - val_acc: 0.9006\n",
      "Epoch 57/100\n",
      "200/200 [==============================] - 189s 946ms/step - loss: 0.2638 - acc: 0.8891 - val_loss: 0.2231 - val_acc: 0.9152\n",
      "Epoch 58/100\n",
      "200/200 [==============================] - 188s 939ms/step - loss: 0.2682 - acc: 0.8855 - val_loss: 0.2561 - val_acc: 0.8966\n",
      "Epoch 59/100\n",
      "200/200 [==============================] - 188s 938ms/step - loss: 0.2666 - acc: 0.8892 - val_loss: 0.2192 - val_acc: 0.9138\n"
     ]
    },
    {
     "name": "stdout",
     "output_type": "stream",
     "text": [
      "Epoch 60/100\n",
      "200/200 [==============================] - 189s 944ms/step - loss: 0.2582 - acc: 0.8922 - val_loss: 0.2212 - val_acc: 0.9144\n",
      "Epoch 61/100\n",
      "200/200 [==============================] - 190s 950ms/step - loss: 0.2642 - acc: 0.8869 - val_loss: 0.2134 - val_acc: 0.9158\n",
      "Epoch 62/100\n",
      "200/200 [==============================] - 187s 933ms/step - loss: 0.2587 - acc: 0.8916 - val_loss: 0.2120 - val_acc: 0.9148\n",
      "Epoch 63/100\n",
      "200/200 [==============================] - 186s 931ms/step - loss: 0.2582 - acc: 0.8918 - val_loss: 0.2235 - val_acc: 0.9148\n",
      "Epoch 64/100\n",
      "200/200 [==============================] - 189s 946ms/step - loss: 0.2538 - acc: 0.8938 - val_loss: 0.2316 - val_acc: 0.9096\n",
      "Epoch 65/100\n",
      "200/200 [==============================] - 189s 943ms/step - loss: 0.2517 - acc: 0.8947 - val_loss: 0.2116 - val_acc: 0.9166\n",
      "Epoch 66/100\n",
      "200/200 [==============================] - 192s 960ms/step - loss: 0.2408 - acc: 0.8995 - val_loss: 0.2329 - val_acc: 0.9058\n",
      "Epoch 67/100\n",
      "200/200 [==============================] - 193s 963ms/step - loss: 0.2443 - acc: 0.8991 - val_loss: 0.2277 - val_acc: 0.9114\n",
      "Epoch 68/100\n",
      "200/200 [==============================] - 196s 981ms/step - loss: 0.2477 - acc: 0.8946 - val_loss: 0.2171 - val_acc: 0.9146\n",
      "Epoch 69/100\n",
      "200/200 [==============================] - 189s 947ms/step - loss: 0.2423 - acc: 0.8985 - val_loss: 0.2088 - val_acc: 0.9218\n",
      "Epoch 70/100\n",
      "200/200 [==============================] - 188s 942ms/step - loss: 0.2370 - acc: 0.8990 - val_loss: 0.2076 - val_acc: 0.9220\n",
      "Epoch 71/100\n",
      "200/200 [==============================] - 189s 944ms/step - loss: 0.2350 - acc: 0.9029 - val_loss: 0.1865 - val_acc: 0.9264\n",
      "Epoch 72/100\n",
      "200/200 [==============================] - 189s 944ms/step - loss: 0.2385 - acc: 0.9023 - val_loss: 0.2114 - val_acc: 0.9154\n",
      "Epoch 73/100\n",
      "200/200 [==============================] - 189s 944ms/step - loss: 0.2366 - acc: 0.9028 - val_loss: 0.2967 - val_acc: 0.8870\n",
      "Epoch 74/100\n",
      "200/200 [==============================] - 189s 947ms/step - loss: 0.2370 - acc: 0.9012 - val_loss: 0.1981 - val_acc: 0.9250\n",
      "Epoch 75/100\n",
      "200/200 [==============================] - 188s 939ms/step - loss: 0.2378 - acc: 0.8997 - val_loss: 0.1912 - val_acc: 0.9256\n",
      "Epoch 76/100\n",
      "200/200 [==============================] - 190s 948ms/step - loss: 0.2288 - acc: 0.9027 - val_loss: 0.1899 - val_acc: 0.9244\n",
      "Epoch 77/100\n",
      "200/200 [==============================] - 189s 945ms/step - loss: 0.2263 - acc: 0.9067 - val_loss: 0.2189 - val_acc: 0.9166\n",
      "Epoch 78/100\n",
      "200/200 [==============================] - 190s 949ms/step - loss: 0.2242 - acc: 0.9069 - val_loss: 0.2480 - val_acc: 0.9040\n",
      "Epoch 79/100\n",
      "200/200 [==============================] - 189s 945ms/step - loss: 0.2264 - acc: 0.9070 - val_loss: 0.2645 - val_acc: 0.8888\n",
      "Epoch 80/100\n",
      "200/200 [==============================] - 190s 948ms/step - loss: 0.2219 - acc: 0.9099 - val_loss: 0.2166 - val_acc: 0.9156\n",
      "Epoch 81/100\n",
      "200/200 [==============================] - 190s 950ms/step - loss: 0.2216 - acc: 0.9068 - val_loss: 0.2323 - val_acc: 0.9090\n",
      "Epoch 82/100\n",
      "200/200 [==============================] - 189s 945ms/step - loss: 0.2201 - acc: 0.9108 - val_loss: 0.2105 - val_acc: 0.9200\n",
      "Epoch 83/100\n",
      "200/200 [==============================] - 188s 939ms/step - loss: 0.2202 - acc: 0.9093 - val_loss: 0.2105 - val_acc: 0.9188\n",
      "Epoch 84/100\n",
      "200/200 [==============================] - 188s 939ms/step - loss: 0.2169 - acc: 0.9121 - val_loss: 0.1828 - val_acc: 0.9300\n",
      "Epoch 85/100\n",
      "200/200 [==============================] - 188s 939ms/step - loss: 0.2177 - acc: 0.9067 - val_loss: 0.2059 - val_acc: 0.9240\n",
      "Epoch 86/100\n",
      "200/200 [==============================] - 188s 941ms/step - loss: 0.2148 - acc: 0.9120 - val_loss: 0.1905 - val_acc: 0.9252\n",
      "Epoch 87/100\n",
      "200/200 [==============================] - 188s 941ms/step - loss: 0.2177 - acc: 0.9104 - val_loss: 0.1949 - val_acc: 0.9266\n",
      "Epoch 88/100\n",
      "200/200 [==============================] - 188s 942ms/step - loss: 0.2126 - acc: 0.9120 - val_loss: 0.1916 - val_acc: 0.9238\n",
      "Epoch 89/100\n",
      "200/200 [==============================] - 188s 940ms/step - loss: 0.2129 - acc: 0.9125 - val_loss: 0.2021 - val_acc: 0.9236\n",
      "Epoch 90/100\n",
      "200/200 [==============================] - 189s 944ms/step - loss: 0.2087 - acc: 0.9150 - val_loss: 0.1855 - val_acc: 0.9282\n",
      "Epoch 91/100\n",
      "200/200 [==============================] - 188s 939ms/step - loss: 0.2088 - acc: 0.9135 - val_loss: 0.1846 - val_acc: 0.9326\n",
      "Epoch 92/100\n",
      "200/200 [==============================] - 192s 962ms/step - loss: 0.2076 - acc: 0.9130 - val_loss: 0.1868 - val_acc: 0.9318\n",
      "Epoch 93/100\n",
      "200/200 [==============================] - 189s 943ms/step - loss: 0.2065 - acc: 0.9157 - val_loss: 0.1944 - val_acc: 0.9260\n",
      "Epoch 94/100\n",
      "200/200 [==============================] - 189s 947ms/step - loss: 0.2038 - acc: 0.9188 - val_loss: 0.2126 - val_acc: 0.9240\n",
      "Epoch 95/100\n",
      "200/200 [==============================] - 190s 949ms/step - loss: 0.2016 - acc: 0.9158 - val_loss: 0.1928 - val_acc: 0.9294\n",
      "Epoch 96/100\n",
      "200/200 [==============================] - 192s 958ms/step - loss: 0.2039 - acc: 0.9155 - val_loss: 0.1822 - val_acc: 0.9304\n",
      "Epoch 97/100\n",
      "200/200 [==============================] - 189s 944ms/step - loss: 0.2027 - acc: 0.9178 - val_loss: 0.1787 - val_acc: 0.9340\n",
      "Epoch 98/100\n",
      "200/200 [==============================] - 189s 943ms/step - loss: 0.1971 - acc: 0.9213 - val_loss: 0.2077 - val_acc: 0.9210\n",
      "Epoch 99/100\n",
      "200/200 [==============================] - 189s 945ms/step - loss: 0.1963 - acc: 0.9176 - val_loss: 0.1754 - val_acc: 0.9340\n",
      "Epoch 100/100\n",
      "200/200 [==============================] - 189s 943ms/step - loss: 0.1980 - acc: 0.9193 - val_loss: 0.1802 - val_acc: 0.9332\n"
     ]
    }
   ],
   "source": [
    "train_datagen = ImageDataGenerator(\n",
    "    rescale=1./255,\n",
    "    rotation_range=30,\n",
    "    width_shift_range=0.2,\n",
    "    height_shift_range=0.2,\n",
    "    shear_range=0.2,\n",
    "    zoom_range=0.2,\n",
    "    horizontal_flip=True,)\n",
    "\n",
    "# Note that the validation data should not be augmented!\n",
    "validation_datagen = ImageDataGenerator(rescale=1./255)\n",
    "\n",
    "train_generator = train_datagen.flow_from_directory(\n",
    "        train_dir,\n",
    "        target_size=(224, 224),\n",
    "        batch_size=100,\n",
    "        class_mode='binary')\n",
    "\n",
    "validation_generator = validation_datagen.flow_from_directory(\n",
    "        validation_dir,\n",
    "        target_size=(224, 224),\n",
    "        batch_size=100,\n",
    "        class_mode='binary')\n",
    "\n",
    "history = model.fit_generator(\n",
    "      train_generator,\n",
    "      steps_per_epoch=200,\n",
    "      epochs=100,\n",
    "      validation_data=validation_generator,\n",
    "      validation_steps=50)"
   ]
  },
  {
   "cell_type": "code",
   "execution_count": 14,
   "metadata": {},
   "outputs": [],
   "source": [
    "model.save('cats_vs_dogs_basic_2.h5')"
   ]
  },
  {
   "cell_type": "code",
   "execution_count": 15,
   "metadata": {},
   "outputs": [
    {
     "data": {
      "image/png": "[encoded data removed]",
      "text/plain": [
       "<Figure size 432x288 with 1 Axes>"
      ]
     },
     "metadata": {},
     "output_type": "display_data"
    },
    {
     "data": {
      "image/png": "[encoded data removed]",
      "text/plain": [
       "<Figure size 432x288 with 1 Axes>"
      ]
     },
     "metadata": {},
     "output_type": "display_data"
    }
   ],
   "source": [
    "acc = history.history['acc']\n",
    "val_acc = history.history['val_acc']\n",
    "loss = history.history['loss']\n",
    "val_loss = history.history['val_loss']\n",
    "\n",
    "epochs = range(len(acc))\n",
    "\n",
    "plt.plot(epochs, acc, 'bo', label='Training acc')\n",
    "plt.plot(epochs, val_acc, 'b', label='Validation acc')\n",
    "plt.title('Training and validation accuracy')\n",
    "plt.legend()\n",
    "\n",
    "plt.figure()\n",
    "\n",
    "plt.plot(epochs, loss, 'bo', label='Training loss')\n",
    "plt.plot(epochs, val_loss, 'b', label='Validation loss')\n",
    "plt.title('Training and validation loss')\n",
    "plt.legend()\n",
    "\n",
    "plt.show()"
   ]
  },
  {
   "cell_type": "code",
   "execution_count": 18,
   "metadata": {},
   "outputs": [],
   "source": [
    "from keras.preprocessing import image\n",
    "from keras import backend as K\n",
    "import numpy as np\n",
    "\n",
    "\n",
    "img_name = '241.jpg'\n",
    "test_dir = os.path.join(base_dir, 'test_dir/test')\n",
    "img_path = os.path.join(test_dir, img_name)\n",
    "\n",
    "img = image.load_img(img_path, target_size=(224, 224))\n",
    "x = image.img_to_array(img)\n",
    "\n",
    "# transform numpy array into a 'batch'\n",
    "x = np.expand_dims(x, axis=0)\n",
    "\n",
    "x = x/255"
   ]
  },
  {
   "cell_type": "code",
   "execution_count": 20,
   "metadata": {},
   "outputs": [
    {
     "name": "stdout",
     "output_type": "stream",
     "text": [
      "[[0.99999523]]\n"
     ]
    }
   ],
   "source": [
    "preds = model.predict(x)\n",
    "print(preds)"
   ]
  },
  {
   "cell_type": "code",
   "execution_count": 23,
   "metadata": {},
   "outputs": [
    {
     "name": "stdout",
     "output_type": "stream",
     "text": [
      "Tensor(\"strided_slice:0\", shape=(1,), dtype=float32)\n"
     ]
    }
   ],
   "source": [
    "output = model.output[0]\n",
    "print(output)"
   ]
  },
  {
   "cell_type": "code",
   "execution_count": 35,
   "metadata": {},
   "outputs": [],
   "source": [
    "# the output feature map of the 'conv2d_4' layer\n",
    "last_conv_layer = model.get_layer('conv2d_4',7)\n",
    "\n",
    "# the gradient of 'dog' class with regard to the output feature map of 'conv2d_4'\n",
    "grads = K.gradients(output[0], last_conv_layer.output)[0]\n",
    "\n",
    "# a vector of shape (128,), where each entry is \n",
    "# the mean intensity of the gradient over a specific feature map channel\n",
    "pooled_grads = K.mean(grads, axis=(0, 1, 2))\n",
    "\n",
    "iterate = K.function([model.input], [pooled_grads, last_conv_layer.output[0]])\n",
    "pooled_grads_value, conv_layer_output_value = iterate([x])\n",
    "\n",
    "for i in range(128):\n",
    "    conv_layer_output_value[:, :, i] *= pooled_grads_value[i]\n",
    "    \n",
    "heatmap = np.mean(conv_layer_output_value, axis=-1)\n",
    "heatmap = np.maximum(heatmap, 0)\n",
    "heatmap /= np.max(heatmap)"
   ]
  },
  {
   "cell_type": "code",
   "execution_count": 36,
   "metadata": {},
   "outputs": [
    {
     "data": {
      "text/plain": [
       "<matplotlib.image.AxesImage at 0x7efffcd60cf8>"
      ]
     },
     "execution_count": 36,
     "metadata": {},
     "output_type": "execute_result"
    },
    {
     "data": {
      "image/png": "[encoded data removed]",
      "text/plain": [
       "<Figure size 288x288 with 1 Axes>"
      ]
     },
     "metadata": {},
     "output_type": "display_data"
    }
   ],
   "source": [
    "plt.matshow(heatmap)"
   ]
  },
  {
   "cell_type": "code",
   "execution_count": 38,
   "metadata": {},
   "outputs": [
    {
     "data": {
      "text/plain": [
       "True"
      ]
     },
     "execution_count": 38,
     "metadata": {},
     "output_type": "execute_result"
    }
   ],
   "source": [
    "import cv2\n",
    "\n",
    "img = cv2.imread(img_path)\n",
    "heatmap = cv2.resize(heatmap, (img.shape[1], img.shape[0]))\n",
    "heatmap = np.uint8(255*heatmap)\n",
    "heatmap = cv2.applyColorMap(heatmap, cv2.COLORMAP_JET)\n",
    "superimposed_img = heatmap * 0.4 + img\n",
    "cv2.imwrite('dog_cam.jpg', superimposed_img)"
   ]
  }
 ],
 "metadata": {
  "kernelspec": {
   "display_name": "Python 3",
   "language": "python",
   "name": "python3"
  },
  "language_info": {
   "codemirror_mode": {
    "name": "ipython",
    "version": 3
   },
   "file_extension": ".py",
   "mimetype": "text/x-python",
   "name": "python",
   "nbconvert_exporter": "python",
   "pygments_lexer": "ipython3",
   "version": "3.5.5"
  }
 },
 "nbformat": 4,
 "nbformat_minor": 2
}
