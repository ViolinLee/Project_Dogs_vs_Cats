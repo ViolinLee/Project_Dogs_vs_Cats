{
 "cells": [
  {
   "cell_type": "code",
   "execution_count": 1,
   "metadata": {},
   "outputs": [
    {
     "name": "stderr",
     "output_type": "stream",
     "text": [
      "/home/leechan/anaconda3/envs/DLCNN/lib/python3.5/site-packages/h5py/__init__.py:36: FutureWarning: Conversion of the second argument of issubdtype from `float` to `np.floating` is deprecated. In future, it will be treated as `np.float64 == np.dtype(float).type`.\n",
      "  from ._conv import register_converters as _register_converters\n",
      "Using TensorFlow backend.\n"
     ]
    },
    {
     "data": {
      "text/plain": [
       "'2.1.6'"
      ]
     },
     "execution_count": 1,
     "metadata": {},
     "output_type": "execute_result"
    }
   ],
   "source": [
    "import keras\n",
    "keras.__version__"
   ]
  },
  {
   "cell_type": "code",
   "execution_count": 2,
   "metadata": {},
   "outputs": [],
   "source": [
    "from keras.applications.vgg16 import VGG16\n",
    "\n",
    "conv_base = VGG16(weights='imagenet',\n",
    "                  include_top=False,\n",
    "                  input_shape=(224, 224, 3))"
   ]
  },
  {
   "cell_type": "code",
   "execution_count": 3,
   "metadata": {},
   "outputs": [
    {
     "name": "stdout",
     "output_type": "stream",
     "text": [
      "_________________________________________________________________\n",
      "Layer (type)                 Output Shape              Param #   \n",
      "=================================================================\n",
      "input_1 (InputLayer)         (None, 224, 224, 3)       0         \n",
      "_________________________________________________________________\n",
      "block1_conv1 (Conv2D)        (None, 224, 224, 64)      1792      \n",
      "_________________________________________________________________\n",
      "block1_conv2 (Conv2D)        (None, 224, 224, 64)      36928     \n",
      "_________________________________________________________________\n",
      "block1_pool (MaxPooling2D)   (None, 112, 112, 64)      0         \n",
      "_________________________________________________________________\n",
      "block2_conv1 (Conv2D)        (None, 112, 112, 128)     73856     \n",
      "_________________________________________________________________\n",
      "block2_conv2 (Conv2D)        (None, 112, 112, 128)     147584    \n",
      "_________________________________________________________________\n",
      "block2_pool (MaxPooling2D)   (None, 56, 56, 128)       0         \n",
      "_________________________________________________________________\n",
      "block3_conv1 (Conv2D)        (None, 56, 56, 256)       295168    \n",
      "_________________________________________________________________\n",
      "block3_conv2 (Conv2D)        (None, 56, 56, 256)       590080    \n",
      "_________________________________________________________________\n",
      "block3_conv3 (Conv2D)        (None, 56, 56, 256)       590080    \n",
      "_________________________________________________________________\n",
      "block3_pool (MaxPooling2D)   (None, 28, 28, 256)       0         \n",
      "_________________________________________________________________\n",
      "block4_conv1 (Conv2D)        (None, 28, 28, 512)       1180160   \n",
      "_________________________________________________________________\n",
      "block4_conv2 (Conv2D)        (None, 28, 28, 512)       2359808   \n",
      "_________________________________________________________________\n",
      "block4_conv3 (Conv2D)        (None, 28, 28, 512)       2359808   \n",
      "_________________________________________________________________\n",
      "block4_pool (MaxPooling2D)   (None, 14, 14, 512)       0         \n",
      "_________________________________________________________________\n",
      "block5_conv1 (Conv2D)        (None, 14, 14, 512)       2359808   \n",
      "_________________________________________________________________\n",
      "block5_conv2 (Conv2D)        (None, 14, 14, 512)       2359808   \n",
      "_________________________________________________________________\n",
      "block5_conv3 (Conv2D)        (None, 14, 14, 512)       2359808   \n",
      "_________________________________________________________________\n",
      "block5_pool (MaxPooling2D)   (None, 7, 7, 512)         0         \n",
      "=================================================================\n",
      "Total params: 14,714,688\n",
      "Trainable params: 14,714,688\n",
      "Non-trainable params: 0\n",
      "_________________________________________________________________\n"
     ]
    }
   ],
   "source": [
    "conv_base.summary()"
   ]
  },
  {
   "cell_type": "code",
   "execution_count": 4,
   "metadata": {},
   "outputs": [
    {
     "name": "stdout",
     "output_type": "stream",
     "text": [
      "Found 12500 images belonging to 1 classes.\n",
      "Found 20000 images belonging to 2 classes.\n",
      "Found 5000 images belonging to 2 classes.\n"
     ]
    }
   ],
   "source": [
    "import os\n",
    "import numpy as np\n",
    "from keras.preprocessing.image import ImageDataGenerator\n",
    "\n",
    "base_dir = '/home/leechan/Documents/Capstone_Dog vs. Cats/Project_Dogs_vs_Cats/Dataset_Dogs_vs_Cats/base'\n",
    "train_dir = os.path.join(base_dir, 'train_dir')\n",
    "validation_dir = os.path.join(base_dir, 'validation_dir')\n",
    "\n",
    "test_dir = '/home/leechan/Documents/Capstone_Dog vs. Cats/Project_Dogs_vs_Cats/Dataset_Dogs_vs_Cats/base/test_dir'\n",
    "\n",
    "datagen = ImageDataGenerator(rescale=1./255)\n",
    "batch_size = 15\n",
    "\n",
    "def extract_features(directory, sample_count):\n",
    "    features = np.zeros(shape=(sample_count, 7, 7, 512))\n",
    "    labels = np.zeros(shape=(sample_count))\n",
    "    generator = datagen.flow_from_directory(\n",
    "        directory,\n",
    "        target_size=(224, 224),\n",
    "        batch_size=batch_size,\n",
    "        class_mode='binary')\n",
    "    i = 0\n",
    "    for inputs_batch, labels_batch in generator:\n",
    "        features_batch = conv_base.predict(inputs_batch)\n",
    "        features[i * batch_size : (i + 1) * batch_size] = features_batch\n",
    "        labels[i * batch_size : (i + 1) * batch_size] = labels_batch\n",
    "        i += 1\n",
    "        if i * batch_size >= sample_count:\n",
    "            # Note that since generators yield data indefinitely in a loop,\n",
    "            # we must `break` after every image has been seen once.\n",
    "            break\n",
    "    return features, labels\n",
    "\n",
    "def extract_features_test(directory, sample_count):\n",
    "    features = np.zeros(shape=(sample_count, 7, 7, 512))\n",
    "    generator = datagen.flow_from_directory(\n",
    "        directory,\n",
    "        target_size=(224, 224),\n",
    "        batch_size=batch_size,\n",
    "        class_mode=None)\n",
    "    i = 0\n",
    "    for inputs_batch in generator:\n",
    "        features_batch = conv_base.predict(inputs_batch)\n",
    "        features[i * batch_size : (i + 1) * batch_size] = features_batch\n",
    "        i += 1\n",
    "        if i * batch_size >= sample_count:\n",
    "            break\n",
    "            \n",
    "    return features\n",
    "\n",
    "test_features = extract_features_test(test_dir, 12500)\n",
    "train_features, train_labels = extract_features(train_dir, 20000)\n",
    "validation_features, validation_labels = extract_features(validation_dir, 5000)"
   ]
  },
  {
   "cell_type": "code",
   "execution_count": 6,
   "metadata": {},
   "outputs": [],
   "source": [
    "train_features = np.reshape(train_features, (20000, 7 * 7 * 512))\n",
    "validation_features = np.reshape(validation_features, (5000, 7 * 7 * 512))\n",
    "test_features = np.reshape(test_features, (12500, 7 * 7 * 512))"
   ]
  },
  {
   "cell_type": "code",
   "execution_count": 16,
   "metadata": {},
   "outputs": [],
   "source": [
    "from keras import models\n",
    "from keras import layers\n",
    "from keras import optimizers\n",
    "\n",
    "model = models.Sequential()\n",
    "model.add(layers.Dense(256, activation='relu', input_dim=7 * 7 * 512))\n",
    "model.add(layers.Dropout(0.5))\n",
    "model.add(layers.Dense(1, activation='sigmoid'))\n",
    "\n",
    "model.compile(optimizer=optimizers.RMSprop(lr=2e-5),\n",
    "              loss='binary_crossentropy',\n",
    "              metrics=['acc'])"
   ]
  },
  {
   "cell_type": "code",
   "execution_count": 17,
   "metadata": {},
   "outputs": [
    {
     "name": "stdout",
     "output_type": "stream",
     "text": [
      "Train on 20000 samples, validate on 5000 samples\n",
      "Epoch 1/30\n",
      "20000/20000 [==============================] - 2s 101us/step - loss: 0.3628 - acc: 0.8379 - val_loss: 0.2461 - val_acc: 0.9012\n",
      "Epoch 2/30\n",
      "20000/20000 [==============================] - 2s 98us/step - loss: 0.2290 - acc: 0.9052 - val_loss: 0.2022 - val_acc: 0.9194\n",
      "Epoch 3/30\n",
      "20000/20000 [==============================] - 2s 94us/step - loss: 0.1928 - acc: 0.9224 - val_loss: 0.1970 - val_acc: 0.9190\n",
      "Epoch 4/30\n",
      "20000/20000 [==============================] - 2s 97us/step - loss: 0.1742 - acc: 0.9321 - val_loss: 0.1814 - val_acc: 0.9278\n",
      "Epoch 5/30\n",
      "20000/20000 [==============================] - 2s 97us/step - loss: 0.1584 - acc: 0.9372 - val_loss: 0.1721 - val_acc: 0.9326\n",
      "Epoch 6/30\n",
      "20000/20000 [==============================] - 2s 97us/step - loss: 0.1449 - acc: 0.9440 - val_loss: 0.1731 - val_acc: 0.9302\n",
      "Epoch 7/30\n",
      "20000/20000 [==============================] - 2s 94us/step - loss: 0.1369 - acc: 0.9472 - val_loss: 0.1679 - val_acc: 0.9332\n",
      "Epoch 8/30\n",
      "20000/20000 [==============================] - 2s 94us/step - loss: 0.1290 - acc: 0.9513 - val_loss: 0.1689 - val_acc: 0.9290\n",
      "Epoch 9/30\n",
      "20000/20000 [==============================] - 2s 95us/step - loss: 0.1209 - acc: 0.9530 - val_loss: 0.1727 - val_acc: 0.9264\n",
      "Epoch 10/30\n",
      "20000/20000 [==============================] - 2s 96us/step - loss: 0.1151 - acc: 0.9564 - val_loss: 0.1629 - val_acc: 0.9348\n",
      "Epoch 11/30\n",
      "20000/20000 [==============================] - 2s 94us/step - loss: 0.1069 - acc: 0.9610 - val_loss: 0.1676 - val_acc: 0.9306\n",
      "Epoch 12/30\n",
      "20000/20000 [==============================] - 2s 98us/step - loss: 0.1019 - acc: 0.9633 - val_loss: 0.1626 - val_acc: 0.9344\n",
      "Epoch 13/30\n",
      "20000/20000 [==============================] - 2s 97us/step - loss: 0.0955 - acc: 0.9651 - val_loss: 0.1608 - val_acc: 0.9364\n",
      "Epoch 14/30\n",
      "20000/20000 [==============================] - 2s 95us/step - loss: 0.0924 - acc: 0.9673 - val_loss: 0.1639 - val_acc: 0.9326\n",
      "Epoch 15/30\n",
      "20000/20000 [==============================] - 2s 94us/step - loss: 0.0872 - acc: 0.9690 - val_loss: 0.1648 - val_acc: 0.9390\n",
      "Epoch 16/30\n",
      "20000/20000 [==============================] - 2s 96us/step - loss: 0.0820 - acc: 0.9725 - val_loss: 0.1713 - val_acc: 0.9298\n",
      "Epoch 17/30\n",
      "20000/20000 [==============================] - 2s 94us/step - loss: 0.0805 - acc: 0.9725 - val_loss: 0.1657 - val_acc: 0.9390\n",
      "Epoch 18/30\n",
      "20000/20000 [==============================] - 2s 93us/step - loss: 0.0754 - acc: 0.9760 - val_loss: 0.1631 - val_acc: 0.9346\n",
      "Epoch 19/30\n",
      "20000/20000 [==============================] - 2s 95us/step - loss: 0.0721 - acc: 0.9765 - val_loss: 0.1674 - val_acc: 0.9376\n",
      "Epoch 20/30\n",
      "20000/20000 [==============================] - 2s 94us/step - loss: 0.0675 - acc: 0.9787 - val_loss: 0.1656 - val_acc: 0.9342\n",
      "Epoch 21/30\n",
      "20000/20000 [==============================] - 2s 95us/step - loss: 0.0652 - acc: 0.9787 - val_loss: 0.1671 - val_acc: 0.9338\n",
      "Epoch 22/30\n",
      "20000/20000 [==============================] - 2s 101us/step - loss: 0.0625 - acc: 0.9813 - val_loss: 0.1674 - val_acc: 0.9382\n",
      "Epoch 23/30\n",
      "20000/20000 [==============================] - 2s 97us/step - loss: 0.0579 - acc: 0.9832 - val_loss: 0.1671 - val_acc: 0.9380\n",
      "Epoch 24/30\n",
      "20000/20000 [==============================] - 2s 96us/step - loss: 0.0560 - acc: 0.9836 - val_loss: 0.1694 - val_acc: 0.9370\n",
      "Epoch 25/30\n",
      "20000/20000 [==============================] - 2s 98us/step - loss: 0.0544 - acc: 0.9850 - val_loss: 0.1727 - val_acc: 0.9348\n",
      "Epoch 26/30\n",
      "20000/20000 [==============================] - 2s 98us/step - loss: 0.0507 - acc: 0.9864 - val_loss: 0.1803 - val_acc: 0.9352\n",
      "Epoch 27/30\n",
      "20000/20000 [==============================] - 2s 95us/step - loss: 0.0481 - acc: 0.9869 - val_loss: 0.1709 - val_acc: 0.9382\n",
      "Epoch 28/30\n",
      "20000/20000 [==============================] - 2s 93us/step - loss: 0.0453 - acc: 0.9879 - val_loss: 0.1745 - val_acc: 0.9358\n",
      "Epoch 29/30\n",
      "20000/20000 [==============================] - 2s 96us/step - loss: 0.0435 - acc: 0.9892 - val_loss: 0.1721 - val_acc: 0.9362\n",
      "Epoch 30/30\n",
      "20000/20000 [==============================] - 2s 96us/step - loss: 0.0410 - acc: 0.9903 - val_loss: 0.1751 - val_acc: 0.9362\n"
     ]
    }
   ],
   "source": [
    "history = model.fit(train_features, train_labels,\n",
    "                    epochs=30,\n",
    "                    batch_size=120,\n",
    "                    validation_data=(validation_features, validation_labels))"
   ]
  },
  {
   "cell_type": "code",
   "execution_count": 18,
   "metadata": {
    "scrolled": true
   },
   "outputs": [
    {
     "data": {
      "image/png": "[encoded data removed]",
      "text/plain": [
       "<Figure size 432x288 with 1 Axes>"
      ]
     },
     "metadata": {},
     "output_type": "display_data"
    },
    {
     "data": {
      "image/png": "[encoded data removed]",
      "text/plain": [
       "<Figure size 432x288 with 1 Axes>"
      ]
     },
     "metadata": {},
     "output_type": "display_data"
    }
   ],
   "source": [
    "import matplotlib.pyplot as plt\n",
    "\n",
    "acc = history.history['acc']\n",
    "val_acc = history.history['val_acc']\n",
    "loss = history.history['loss']\n",
    "val_loss = history.history['val_loss']\n",
    "\n",
    "epochs = range(len(acc))\n",
    "\n",
    "plt.plot(epochs, acc, 'bo', label='Training acc')\n",
    "plt.plot(epochs, val_acc, 'b', label='Validation acc')\n",
    "plt.title('Training and validation accuracy')\n",
    "plt.legend()\n",
    "\n",
    "plt.figure()\n",
    "\n",
    "plt.plot(epochs, loss, 'bo', label='Training loss')\n",
    "plt.plot(epochs, val_loss, 'b', label='Validation loss')\n",
    "plt.title('Training and validation loss')\n",
    "plt.legend()\n",
    "\n",
    "plt.show()"
   ]
  },
  {
   "cell_type": "code",
   "execution_count": 34,
   "metadata": {},
   "outputs": [],
   "source": [
    "from keras import models\n",
    "from keras import layers\n",
    "\n",
    "model = models.Sequential()\n",
    "model.add(conv_base)\n",
    "model.add(layers.Flatten())\n",
    "model.add(layers.Dense(256, activation='relu'))\n",
    "model.add(layers.Dense(1, activation='sigmoid'))"
   ]
  },
  {
   "cell_type": "code",
   "execution_count": 35,
   "metadata": {},
   "outputs": [
    {
     "name": "stdout",
     "output_type": "stream",
     "text": [
      "_________________________________________________________________\n",
      "Layer (type)                 Output Shape              Param #   \n",
      "=================================================================\n",
      "vgg16 (Model)                (None, 7, 7, 512)         14714688  \n",
      "_________________________________________________________________\n",
      "flatten_4 (Flatten)          (None, 25088)             0         \n",
      "_________________________________________________________________\n",
      "dense_13 (Dense)             (None, 256)               6422784   \n",
      "_________________________________________________________________\n",
      "dense_14 (Dense)             (None, 1)                 257       \n",
      "=================================================================\n",
      "Total params: 21,137,729\n",
      "Trainable params: 6,423,041\n",
      "Non-trainable params: 14,714,688\n",
      "_________________________________________________________________\n"
     ]
    }
   ],
   "source": [
    "model.summary()"
   ]
  },
  {
   "cell_type": "code",
   "execution_count": 36,
   "metadata": {},
   "outputs": [
    {
     "name": "stdout",
     "output_type": "stream",
     "text": [
      "This is the number of trainable weights before freezing the conv base: 4\n"
     ]
    }
   ],
   "source": [
    "print('This is the number of trainable weights '\n",
    "      'before freezing the conv base:', len(model.trainable_weights))"
   ]
  },
  {
   "cell_type": "code",
   "execution_count": 37,
   "metadata": {},
   "outputs": [],
   "source": [
    "conv_base.trainable = False"
   ]
  },
  {
   "cell_type": "code",
   "execution_count": 38,
   "metadata": {},
   "outputs": [
    {
     "name": "stdout",
     "output_type": "stream",
     "text": [
      "This is the number of trainable weights after freezing the conv base: 4\n"
     ]
    }
   ],
   "source": [
    "print('This is the number of trainable weights '\n",
    "      'after freezing the conv base:', len(model.trainable_weights))"
   ]
  },
  {
   "cell_type": "code",
   "execution_count": 39,
   "metadata": {},
   "outputs": [
    {
     "name": "stdout",
     "output_type": "stream",
     "text": [
      "Found 20000 images belonging to 2 classes.\n",
      "Found 5000 images belonging to 2 classes.\n",
      "Epoch 1/30\n",
      " - 196s - loss: 0.3917 - acc: 0.8225 - val_loss: 0.2152 - val_acc: 0.9122\n",
      "Epoch 2/30\n",
      " - 191s - loss: 0.2925 - acc: 0.8739 - val_loss: 0.1888 - val_acc: 0.9220\n",
      "Epoch 3/30\n",
      " - 191s - loss: 0.2699 - acc: 0.8817 - val_loss: 0.1838 - val_acc: 0.9260\n",
      "Epoch 4/30\n",
      " - 191s - loss: 0.2569 - acc: 0.8896 - val_loss: 0.1875 - val_acc: 0.9266\n",
      "Epoch 5/30\n",
      " - 191s - loss: 0.2482 - acc: 0.8917 - val_loss: 0.2035 - val_acc: 0.9234\n",
      "Epoch 6/30\n",
      " - 191s - loss: 0.2442 - acc: 0.8976 - val_loss: 0.2078 - val_acc: 0.9178\n",
      "Epoch 7/30\n",
      " - 192s - loss: 0.2388 - acc: 0.8994 - val_loss: 0.1746 - val_acc: 0.9332\n",
      "Epoch 8/30\n",
      " - 192s - loss: 0.2338 - acc: 0.9016 - val_loss: 0.1682 - val_acc: 0.9322\n",
      "Epoch 9/30\n",
      " - 192s - loss: 0.2308 - acc: 0.9007 - val_loss: 0.1737 - val_acc: 0.9346\n",
      "Epoch 10/30\n",
      " - 193s - loss: 0.2305 - acc: 0.9018 - val_loss: 0.1672 - val_acc: 0.9374\n",
      "Epoch 11/30\n",
      " - 191s - loss: 0.2270 - acc: 0.9026 - val_loss: 0.1652 - val_acc: 0.9376\n",
      "Epoch 12/30\n",
      " - 191s - loss: 0.2233 - acc: 0.9034 - val_loss: 0.1641 - val_acc: 0.9362\n",
      "Epoch 13/30\n",
      " - 191s - loss: 0.2216 - acc: 0.9057 - val_loss: 0.1708 - val_acc: 0.9384\n",
      "Epoch 14/30\n",
      " - 191s - loss: 0.2261 - acc: 0.9036 - val_loss: 0.1898 - val_acc: 0.9304\n",
      "Epoch 15/30\n",
      " - 191s - loss: 0.2215 - acc: 0.9068 - val_loss: 0.1646 - val_acc: 0.9390\n",
      "Epoch 16/30\n",
      " - 191s - loss: 0.2174 - acc: 0.9096 - val_loss: 0.1810 - val_acc: 0.9338\n",
      "Epoch 17/30\n",
      " - 191s - loss: 0.2127 - acc: 0.9117 - val_loss: 0.1638 - val_acc: 0.9378\n",
      "Epoch 18/30\n",
      " - 191s - loss: 0.2145 - acc: 0.9081 - val_loss: 0.1667 - val_acc: 0.9358\n",
      "Epoch 19/30\n",
      " - 191s - loss: 0.2137 - acc: 0.9098 - val_loss: 0.1672 - val_acc: 0.9382\n",
      "Epoch 20/30\n",
      " - 191s - loss: 0.2128 - acc: 0.9094 - val_loss: 0.1741 - val_acc: 0.9348\n",
      "Epoch 21/30\n",
      " - 191s - loss: 0.2094 - acc: 0.9113 - val_loss: 0.1745 - val_acc: 0.9350\n",
      "Epoch 22/30\n",
      " - 191s - loss: 0.2082 - acc: 0.9121 - val_loss: 0.1608 - val_acc: 0.9396\n",
      "Epoch 23/30\n",
      " - 191s - loss: 0.2088 - acc: 0.9115 - val_loss: 0.1576 - val_acc: 0.9388\n",
      "Epoch 24/30\n",
      " - 191s - loss: 0.2075 - acc: 0.9138 - val_loss: 0.1721 - val_acc: 0.9352\n",
      "Epoch 25/30\n",
      " - 193s - loss: 0.2107 - acc: 0.9120 - val_loss: 0.1573 - val_acc: 0.9392\n",
      "Epoch 26/30\n",
      " - 191s - loss: 0.2059 - acc: 0.9123 - val_loss: 0.1733 - val_acc: 0.9366\n",
      "Epoch 27/30\n",
      " - 194s - loss: 0.2026 - acc: 0.9150 - val_loss: 0.1559 - val_acc: 0.9426\n",
      "Epoch 28/30\n",
      " - 193s - loss: 0.2078 - acc: 0.9137 - val_loss: 0.1663 - val_acc: 0.9364\n",
      "Epoch 29/30\n",
      " - 191s - loss: 0.2031 - acc: 0.9138 - val_loss: 0.1654 - val_acc: 0.9322\n",
      "Epoch 30/30\n",
      " - 193s - loss: 0.2029 - acc: 0.9169 - val_loss: 0.1669 - val_acc: 0.9394\n"
     ]
    }
   ],
   "source": [
    "from keras.preprocessing.image import ImageDataGenerator\n",
    "\n",
    "train_datagen = ImageDataGenerator(\n",
    "      rescale=1./255,\n",
    "      rotation_range=40,\n",
    "      width_shift_range=0.2,\n",
    "      height_shift_range=0.2,\n",
    "      shear_range=0.2,\n",
    "      zoom_range=0.2,\n",
    "      horizontal_flip=True,\n",
    "      fill_mode='nearest')\n",
    "\n",
    "# Note that the validation data should not be augmented!\n",
    "test_datagen = ImageDataGenerator(rescale=1./255)\n",
    "\n",
    "train_generator = train_datagen.flow_from_directory(\n",
    "        # This is the target directory\n",
    "        train_dir,\n",
    "        # All images will be resized to 150x150\n",
    "        target_size=(224, 224),\n",
    "        batch_size=50,\n",
    "        # Since we use binary_crossentropy loss, we need binary labels\n",
    "        class_mode='binary')\n",
    "\n",
    "validation_generator = test_datagen.flow_from_directory(\n",
    "        validation_dir,\n",
    "        target_size=(224, 224),\n",
    "        batch_size=50,\n",
    "        class_mode='binary')\n",
    "\n",
    "model.compile(loss='binary_crossentropy',\n",
    "              optimizer=optimizers.RMSprop(lr=2e-5),\n",
    "              metrics=['acc'])\n",
    "\n",
    "history = model.fit_generator(\n",
    "      train_generator,\n",
    "      steps_per_epoch=400,\n",
    "      epochs=30,\n",
    "      validation_data=validation_generator,\n",
    "      validation_steps=100,\n",
    "      verbose=2)"
   ]
  },
  {
   "cell_type": "code",
   "execution_count": 40,
   "metadata": {},
   "outputs": [],
   "source": [
    "model.save('VGG16_feature_extraction.h5')"
   ]
  },
  {
   "cell_type": "code",
   "execution_count": 41,
   "metadata": {},
   "outputs": [
    {
     "data": {
      "image/png": "[encoded data removed]",
      "text/plain": [
       "<Figure size 432x288 with 1 Axes>"
      ]
     },
     "metadata": {},
     "output_type": "display_data"
    },
    {
     "data": {
      "image/png": "[encoded data removed]",
      "text/plain": [
       "<Figure size 432x288 with 1 Axes>"
      ]
     },
     "metadata": {},
     "output_type": "display_data"
    }
   ],
   "source": [
    "acc = history.history['acc']\n",
    "val_acc = history.history['val_acc']\n",
    "loss = history.history['loss']\n",
    "val_loss = history.history['val_loss']\n",
    "\n",
    "epochs = range(len(acc))\n",
    "\n",
    "plt.plot(epochs, acc, 'bo', label='Training acc')\n",
    "plt.plot(epochs, val_acc, 'b', label='Validation acc')\n",
    "plt.title('Training and validation accuracy')\n",
    "plt.legend()\n",
    "\n",
    "plt.figure()\n",
    "\n",
    "plt.plot(epochs, loss, 'bo', label='Training loss')\n",
    "plt.plot(epochs, val_loss, 'b', label='Validation loss')\n",
    "plt.title('Training and validation loss')\n",
    "plt.legend()\n",
    "\n",
    "plt.show()"
   ]
  },
  {
   "cell_type": "code",
   "execution_count": 42,
   "metadata": {},
   "outputs": [
    {
     "name": "stdout",
     "output_type": "stream",
     "text": [
      "_________________________________________________________________\n",
      "Layer (type)                 Output Shape              Param #   \n",
      "=================================================================\n",
      "input_1 (InputLayer)         (None, 224, 224, 3)       0         \n",
      "_________________________________________________________________\n",
      "block1_conv1 (Conv2D)        (None, 224, 224, 64)      1792      \n",
      "_________________________________________________________________\n",
      "block1_conv2 (Conv2D)        (None, 224, 224, 64)      36928     \n",
      "_________________________________________________________________\n",
      "block1_pool (MaxPooling2D)   (None, 112, 112, 64)      0         \n",
      "_________________________________________________________________\n",
      "block2_conv1 (Conv2D)        (None, 112, 112, 128)     73856     \n",
      "_________________________________________________________________\n",
      "block2_conv2 (Conv2D)        (None, 112, 112, 128)     147584    \n",
      "_________________________________________________________________\n",
      "block2_pool (MaxPooling2D)   (None, 56, 56, 128)       0         \n",
      "_________________________________________________________________\n",
      "block3_conv1 (Conv2D)        (None, 56, 56, 256)       295168    \n",
      "_________________________________________________________________\n",
      "block3_conv2 (Conv2D)        (None, 56, 56, 256)       590080    \n",
      "_________________________________________________________________\n",
      "block3_conv3 (Conv2D)        (None, 56, 56, 256)       590080    \n",
      "_________________________________________________________________\n",
      "block3_pool (MaxPooling2D)   (None, 28, 28, 256)       0         \n",
      "_________________________________________________________________\n",
      "block4_conv1 (Conv2D)        (None, 28, 28, 512)       1180160   \n",
      "_________________________________________________________________\n",
      "block4_conv2 (Conv2D)        (None, 28, 28, 512)       2359808   \n",
      "_________________________________________________________________\n",
      "block4_conv3 (Conv2D)        (None, 28, 28, 512)       2359808   \n",
      "_________________________________________________________________\n",
      "block4_pool (MaxPooling2D)   (None, 14, 14, 512)       0         \n",
      "_________________________________________________________________\n",
      "block5_conv1 (Conv2D)        (None, 14, 14, 512)       2359808   \n",
      "_________________________________________________________________\n",
      "block5_conv2 (Conv2D)        (None, 14, 14, 512)       2359808   \n",
      "_________________________________________________________________\n",
      "block5_conv3 (Conv2D)        (None, 14, 14, 512)       2359808   \n",
      "_________________________________________________________________\n",
      "block5_pool (MaxPooling2D)   (None, 7, 7, 512)         0         \n",
      "=================================================================\n",
      "Total params: 14,714,688\n",
      "Trainable params: 0\n",
      "Non-trainable params: 14,714,688\n",
      "_________________________________________________________________\n"
     ]
    }
   ],
   "source": [
    "conv_base.summary()"
   ]
  },
  {
   "cell_type": "code",
   "execution_count": 43,
   "metadata": {},
   "outputs": [],
   "source": [
    "conv_base.trainable = True\n",
    "\n",
    "set_trainable = False\n",
    "for layer in conv_base.layers:\n",
    "    if layer.name == 'block5_conv1':\n",
    "        set_trainable = True\n",
    "    if set_trainable:\n",
    "        layer.trainable = True\n",
    "    else:\n",
    "        layer.trainable = False"
   ]
  },
  {
   "cell_type": "code",
   "execution_count": 44,
   "metadata": {},
   "outputs": [
    {
     "name": "stdout",
     "output_type": "stream",
     "text": [
      "Epoch 1/100\n",
      "400/400 [==============================] - 201s 503ms/step - loss: 0.1970 - acc: 0.9177 - val_loss: 0.1302 - val_acc: 0.9544\n",
      "Epoch 2/100\n",
      "400/400 [==============================] - 193s 483ms/step - loss: 0.1544 - acc: 0.9372 - val_loss: 0.1136 - val_acc: 0.9600\n",
      "Epoch 3/100\n",
      "400/400 [==============================] - 193s 483ms/step - loss: 0.1351 - acc: 0.9457 - val_loss: 0.1078 - val_acc: 0.9650\n",
      "Epoch 4/100\n",
      "400/400 [==============================] - 193s 483ms/step - loss: 0.1193 - acc: 0.9524 - val_loss: 0.1050 - val_acc: 0.9650\n",
      "Epoch 5/100\n",
      "400/400 [==============================] - 194s 484ms/step - loss: 0.1121 - acc: 0.9557 - val_loss: 0.1140 - val_acc: 0.9666\n",
      "Epoch 6/100\n",
      "400/400 [==============================] - 193s 483ms/step - loss: 0.1028 - acc: 0.9603 - val_loss: 0.1055 - val_acc: 0.9674\n",
      "Epoch 7/100\n",
      "400/400 [==============================] - 193s 483ms/step - loss: 0.0973 - acc: 0.9603 - val_loss: 0.1106 - val_acc: 0.9686\n",
      "Epoch 8/100\n",
      "400/400 [==============================] - 193s 483ms/step - loss: 0.0925 - acc: 0.9650 - val_loss: 0.1294 - val_acc: 0.9650\n",
      "Epoch 9/100\n",
      "400/400 [==============================] - 194s 484ms/step - loss: 0.0863 - acc: 0.9661 - val_loss: 0.1263 - val_acc: 0.9696\n",
      "Epoch 10/100\n",
      "400/400 [==============================] - 194s 486ms/step - loss: 0.0820 - acc: 0.9686 - val_loss: 0.1067 - val_acc: 0.9724\n",
      "Epoch 11/100\n",
      "400/400 [==============================] - 195s 488ms/step - loss: 0.0820 - acc: 0.9678 - val_loss: 0.1221 - val_acc: 0.9714\n",
      "Epoch 12/100\n",
      "400/400 [==============================] - 194s 485ms/step - loss: 0.0725 - acc: 0.9716 - val_loss: 0.1447 - val_acc: 0.9646\n",
      "Epoch 13/100\n",
      "400/400 [==============================] - 197s 492ms/step - loss: 0.0739 - acc: 0.9717 - val_loss: 0.1601 - val_acc: 0.9636\n",
      "Epoch 14/100\n",
      "400/400 [==============================] - 194s 486ms/step - loss: 0.0698 - acc: 0.9740 - val_loss: 0.1370 - val_acc: 0.9678\n",
      "Epoch 15/100\n",
      "400/400 [==============================] - 194s 484ms/step - loss: 0.0689 - acc: 0.9743 - val_loss: 0.1382 - val_acc: 0.9678\n",
      "Epoch 16/100\n",
      "400/400 [==============================] - 194s 485ms/step - loss: 0.0612 - acc: 0.9774 - val_loss: 0.1254 - val_acc: 0.9712\n",
      "Epoch 17/100\n",
      "400/400 [==============================] - 194s 484ms/step - loss: 0.0596 - acc: 0.9780 - val_loss: 0.1264 - val_acc: 0.9704\n",
      "Epoch 18/100\n",
      "400/400 [==============================] - 193s 484ms/step - loss: 0.0598 - acc: 0.9775 - val_loss: 0.1397 - val_acc: 0.9704\n",
      "Epoch 19/100\n",
      "400/400 [==============================] - 194s 485ms/step - loss: 0.0571 - acc: 0.9799 - val_loss: 0.1631 - val_acc: 0.9674\n",
      "Epoch 20/100\n",
      "400/400 [==============================] - 194s 484ms/step - loss: 0.0581 - acc: 0.9794 - val_loss: 0.1430 - val_acc: 0.9692\n",
      "Epoch 21/100\n",
      "400/400 [==============================] - 194s 484ms/step - loss: 0.0560 - acc: 0.9793 - val_loss: 0.2059 - val_acc: 0.9604\n",
      "Epoch 22/100\n",
      "400/400 [==============================] - 194s 485ms/step - loss: 0.0511 - acc: 0.9810 - val_loss: 0.1471 - val_acc: 0.9722\n",
      "Epoch 23/100\n",
      "400/400 [==============================] - 194s 484ms/step - loss: 0.0495 - acc: 0.9815 - val_loss: 0.1477 - val_acc: 0.9700\n",
      "Epoch 24/100\n",
      "400/400 [==============================] - 194s 484ms/step - loss: 0.0500 - acc: 0.9813 - val_loss: 0.1819 - val_acc: 0.9670\n",
      "Epoch 25/100\n",
      "400/400 [==============================] - 196s 489ms/step - loss: 0.0475 - acc: 0.9826 - val_loss: 0.1450 - val_acc: 0.9718\n",
      "Epoch 26/100\n",
      "400/400 [==============================] - 193s 484ms/step - loss: 0.0478 - acc: 0.9829 - val_loss: 0.1466 - val_acc: 0.9720\n",
      "Epoch 27/100\n",
      "400/400 [==============================] - 194s 484ms/step - loss: 0.0430 - acc: 0.9846 - val_loss: 0.1758 - val_acc: 0.9702\n",
      "Epoch 28/100\n",
      "400/400 [==============================] - 194s 485ms/step - loss: 0.0474 - acc: 0.9825 - val_loss: 0.1526 - val_acc: 0.9726\n",
      "Epoch 29/100\n",
      "400/400 [==============================] - 194s 484ms/step - loss: 0.0418 - acc: 0.9846 - val_loss: 0.1519 - val_acc: 0.9710\n",
      "Epoch 30/100\n",
      "400/400 [==============================] - 194s 485ms/step - loss: 0.0404 - acc: 0.9864 - val_loss: 0.1813 - val_acc: 0.9698\n",
      "Epoch 31/100\n",
      "400/400 [==============================] - 194s 485ms/step - loss: 0.0392 - acc: 0.9857 - val_loss: 0.1512 - val_acc: 0.9722\n",
      "Epoch 32/100\n",
      "400/400 [==============================] - 194s 485ms/step - loss: 0.0379 - acc: 0.9862 - val_loss: 0.1440 - val_acc: 0.9744\n",
      "Epoch 33/100\n",
      "400/400 [==============================] - 194s 485ms/step - loss: 0.0420 - acc: 0.9845 - val_loss: 0.1430 - val_acc: 0.9732\n",
      "Epoch 34/100\n",
      "400/400 [==============================] - 195s 489ms/step - loss: 0.0364 - acc: 0.9867 - val_loss: 0.1556 - val_acc: 0.9726\n",
      "Epoch 35/100\n",
      "400/400 [==============================] - 195s 488ms/step - loss: 0.0361 - acc: 0.9875 - val_loss: 0.1554 - val_acc: 0.9618\n",
      "Epoch 36/100\n",
      "400/400 [==============================] - 195s 489ms/step - loss: 0.0363 - acc: 0.9877 - val_loss: 0.1289 - val_acc: 0.9748\n",
      "Epoch 37/100\n",
      "400/400 [==============================] - 194s 484ms/step - loss: 0.0357 - acc: 0.9871 - val_loss: 0.1420 - val_acc: 0.9716\n",
      "Epoch 38/100\n",
      "400/400 [==============================] - 194s 485ms/step - loss: 0.0356 - acc: 0.9878 - val_loss: 0.1626 - val_acc: 0.9740\n",
      "Epoch 39/100\n",
      "400/400 [==============================] - 194s 484ms/step - loss: 0.0327 - acc: 0.9886 - val_loss: 0.1485 - val_acc: 0.9718\n",
      "Epoch 40/100\n",
      "400/400 [==============================] - 194s 484ms/step - loss: 0.0326 - acc: 0.9886 - val_loss: 0.1672 - val_acc: 0.9734\n",
      "Epoch 41/100\n",
      "400/400 [==============================] - 194s 485ms/step - loss: 0.0310 - acc: 0.9894 - val_loss: 0.1468 - val_acc: 0.9754\n",
      "Epoch 42/100\n",
      "400/400 [==============================] - 194s 484ms/step - loss: 0.0296 - acc: 0.9897 - val_loss: 0.1805 - val_acc: 0.9726\n",
      "Epoch 43/100\n",
      "400/400 [==============================] - 193s 483ms/step - loss: 0.0320 - acc: 0.9901 - val_loss: 0.1638 - val_acc: 0.9746\n",
      "Epoch 44/100\n",
      "400/400 [==============================] - 194s 485ms/step - loss: 0.0280 - acc: 0.9899 - val_loss: 0.1889 - val_acc: 0.9714\n",
      "Epoch 45/100\n",
      "400/400 [==============================] - 193s 483ms/step - loss: 0.0312 - acc: 0.9893 - val_loss: 0.1581 - val_acc: 0.9710\n",
      "Epoch 46/100\n",
      "400/400 [==============================] - 193s 483ms/step - loss: 0.0278 - acc: 0.9897 - val_loss: 0.1719 - val_acc: 0.9738\n",
      "Epoch 47/100\n",
      "400/400 [==============================] - 193s 483ms/step - loss: 0.0246 - acc: 0.9911 - val_loss: 0.1584 - val_acc: 0.9744\n",
      "Epoch 48/100\n",
      "400/400 [==============================] - 194s 484ms/step - loss: 0.0288 - acc: 0.9904 - val_loss: 0.1820 - val_acc: 0.9724\n",
      "Epoch 49/100\n",
      "400/400 [==============================] - 193s 483ms/step - loss: 0.0284 - acc: 0.9899 - val_loss: 0.1574 - val_acc: 0.9744\n",
      "Epoch 50/100\n",
      "400/400 [==============================] - 194s 484ms/step - loss: 0.0243 - acc: 0.9916 - val_loss: 0.1942 - val_acc: 0.9714\n",
      "Epoch 51/100\n",
      "400/400 [==============================] - 194s 484ms/step - loss: 0.0283 - acc: 0.9902 - val_loss: 0.1743 - val_acc: 0.9744\n",
      "Epoch 52/100\n",
      "400/400 [==============================] - 194s 485ms/step - loss: 0.0263 - acc: 0.9908 - val_loss: 0.1608 - val_acc: 0.9696\n",
      "Epoch 53/100\n",
      "400/400 [==============================] - 194s 484ms/step - loss: 0.0270 - acc: 0.9910 - val_loss: 0.1531 - val_acc: 0.9724\n",
      "Epoch 54/100\n",
      "400/400 [==============================] - 194s 484ms/step - loss: 0.0270 - acc: 0.9912 - val_loss: 0.1644 - val_acc: 0.9730\n",
      "Epoch 55/100\n",
      "400/400 [==============================] - 193s 483ms/step - loss: 0.0244 - acc: 0.9921 - val_loss: 0.1891 - val_acc: 0.9756\n",
      "Epoch 56/100\n",
      "400/400 [==============================] - 193s 484ms/step - loss: 0.0287 - acc: 0.9908 - val_loss: 0.2777 - val_acc: 0.9624\n",
      "Epoch 57/100\n",
      "400/400 [==============================] - 194s 485ms/step - loss: 0.0257 - acc: 0.9913 - val_loss: 0.1708 - val_acc: 0.9736\n",
      "Epoch 58/100\n",
      "400/400 [==============================] - 194s 485ms/step - loss: 0.0260 - acc: 0.9913 - val_loss: 0.1778 - val_acc: 0.9726\n",
      "Epoch 59/100\n",
      "400/400 [==============================] - 195s 488ms/step - loss: 0.0234 - acc: 0.9915 - val_loss: 0.1732 - val_acc: 0.9750\n",
      "Epoch 60/100\n",
      "400/400 [==============================] - 193s 484ms/step - loss: 0.0268 - acc: 0.9917 - val_loss: 0.1678 - val_acc: 0.9754\n",
      "Epoch 61/100\n",
      "400/400 [==============================] - 193s 483ms/step - loss: 0.0206 - acc: 0.9924 - val_loss: 0.1800 - val_acc: 0.9742\n",
      "Epoch 62/100\n",
      "400/400 [==============================] - 194s 486ms/step - loss: 0.0244 - acc: 0.9918 - val_loss: 0.1766 - val_acc: 0.9742\n",
      "Epoch 63/100\n",
      "400/400 [==============================] - 194s 485ms/step - loss: 0.0227 - acc: 0.9924 - val_loss: 0.1673 - val_acc: 0.9744\n",
      "Epoch 64/100\n",
      "400/400 [==============================] - 194s 485ms/step - loss: 0.0234 - acc: 0.9921 - val_loss: 0.3079 - val_acc: 0.9600\n",
      "Epoch 65/100\n",
      "400/400 [==============================] - 193s 483ms/step - loss: 0.0189 - acc: 0.9938 - val_loss: 0.1866 - val_acc: 0.9734\n",
      "Epoch 66/100\n",
      "400/400 [==============================] - 194s 484ms/step - loss: 0.0234 - acc: 0.9931 - val_loss: 0.1747 - val_acc: 0.9748\n",
      "Epoch 67/100\n",
      "400/400 [==============================] - 194s 486ms/step - loss: 0.0208 - acc: 0.9935 - val_loss: 0.1650 - val_acc: 0.9742\n",
      "Epoch 68/100\n",
      "400/400 [==============================] - 193s 483ms/step - loss: 0.0266 - acc: 0.9911 - val_loss: 0.1823 - val_acc: 0.9742\n",
      "Epoch 69/100\n",
      "400/400 [==============================] - 193s 483ms/step - loss: 0.0229 - acc: 0.9921 - val_loss: 0.1698 - val_acc: 0.9732\n",
      "Epoch 70/100\n",
      "400/400 [==============================] - 193s 483ms/step - loss: 0.0211 - acc: 0.9932 - val_loss: 0.1963 - val_acc: 0.9734\n",
      "Epoch 71/100\n",
      "400/400 [==============================] - 193s 482ms/step - loss: 0.0217 - acc: 0.9929 - val_loss: 0.1878 - val_acc: 0.9732\n",
      "Epoch 72/100\n",
      "400/400 [==============================] - 193s 483ms/step - loss: 0.0243 - acc: 0.9923 - val_loss: 0.1662 - val_acc: 0.9752\n",
      "Epoch 73/100\n",
      "400/400 [==============================] - 193s 483ms/step - loss: 0.0212 - acc: 0.9932 - val_loss: 0.1830 - val_acc: 0.9724\n",
      "Epoch 74/100\n",
      "400/400 [==============================] - 193s 483ms/step - loss: 0.0231 - acc: 0.9931 - val_loss: 0.1860 - val_acc: 0.9750\n",
      "Epoch 75/100\n",
      "400/400 [==============================] - 193s 482ms/step - loss: 0.0212 - acc: 0.9937 - val_loss: 0.1891 - val_acc: 0.9732\n",
      "Epoch 76/100\n",
      "400/400 [==============================] - 193s 483ms/step - loss: 0.0250 - acc: 0.9922 - val_loss: 0.1900 - val_acc: 0.9728\n",
      "Epoch 77/100\n",
      "400/400 [==============================] - 194s 484ms/step - loss: 0.0220 - acc: 0.9932 - val_loss: 0.1940 - val_acc: 0.9720\n",
      "Epoch 78/100\n",
      "400/400 [==============================] - 194s 484ms/step - loss: 0.0224 - acc: 0.9935 - val_loss: 0.1933 - val_acc: 0.9734\n",
      "Epoch 79/100\n",
      "400/400 [==============================] - 193s 483ms/step - loss: 0.0240 - acc: 0.9927 - val_loss: 0.1975 - val_acc: 0.9712\n",
      "Epoch 80/100\n",
      "400/400 [==============================] - 195s 487ms/step - loss: 0.0212 - acc: 0.9935 - val_loss: 0.1831 - val_acc: 0.9736\n",
      "Epoch 81/100\n",
      "400/400 [==============================] - 193s 483ms/step - loss: 0.0198 - acc: 0.9938 - val_loss: 0.2203 - val_acc: 0.9712\n",
      "Epoch 82/100\n",
      "400/400 [==============================] - 194s 485ms/step - loss: 0.0215 - acc: 0.9931 - val_loss: 0.1849 - val_acc: 0.9752\n",
      "Epoch 83/100\n",
      "400/400 [==============================] - 193s 483ms/step - loss: 0.0209 - acc: 0.9937 - val_loss: 0.2002 - val_acc: 0.9746\n",
      "Epoch 84/100\n",
      "400/400 [==============================] - 194s 486ms/step - loss: 0.0192 - acc: 0.9946 - val_loss: 0.2007 - val_acc: 0.9740\n",
      "Epoch 85/100\n",
      "400/400 [==============================] - 193s 482ms/step - loss: 0.0210 - acc: 0.9933 - val_loss: 0.1903 - val_acc: 0.9754\n",
      "Epoch 86/100\n",
      "400/400 [==============================] - 193s 483ms/step - loss: 0.0233 - acc: 0.9929 - val_loss: 0.1962 - val_acc: 0.9750\n",
      "Epoch 87/100\n",
      "400/400 [==============================] - 194s 484ms/step - loss: 0.0215 - acc: 0.9935 - val_loss: 0.2207 - val_acc: 0.9724\n",
      "Epoch 88/100\n",
      "400/400 [==============================] - 194s 484ms/step - loss: 0.0191 - acc: 0.9940 - val_loss: 0.1968 - val_acc: 0.9742\n",
      "Epoch 89/100\n",
      "400/400 [==============================] - 193s 483ms/step - loss: 0.0190 - acc: 0.9940 - val_loss: 0.1957 - val_acc: 0.9762\n",
      "Epoch 90/100\n",
      "400/400 [==============================] - 193s 483ms/step - loss: 0.0166 - acc: 0.9945 - val_loss: 0.2017 - val_acc: 0.9740\n",
      "Epoch 91/100\n",
      "400/400 [==============================] - 193s 483ms/step - loss: 0.0197 - acc: 0.9938 - val_loss: 0.2094 - val_acc: 0.9730\n",
      "Epoch 92/100\n",
      "400/400 [==============================] - 193s 483ms/step - loss: 0.0198 - acc: 0.9937 - val_loss: 0.1976 - val_acc: 0.9742\n",
      "Epoch 93/100\n",
      "400/400 [==============================] - 193s 483ms/step - loss: 0.0180 - acc: 0.9946 - val_loss: 0.1893 - val_acc: 0.9764\n",
      "Epoch 94/100\n",
      "400/400 [==============================] - 194s 484ms/step - loss: 0.0221 - acc: 0.9937 - val_loss: 0.1809 - val_acc: 0.9740\n",
      "Epoch 95/100\n",
      "400/400 [==============================] - 194s 484ms/step - loss: 0.0199 - acc: 0.9944 - val_loss: 0.2063 - val_acc: 0.9768\n",
      "Epoch 96/100\n",
      "400/400 [==============================] - 194s 484ms/step - loss: 0.0193 - acc: 0.9942 - val_loss: 0.2085 - val_acc: 0.9738\n",
      "Epoch 97/100\n",
      "400/400 [==============================] - 193s 483ms/step - loss: 0.0190 - acc: 0.9940 - val_loss: 0.2313 - val_acc: 0.9722\n",
      "Epoch 98/100\n",
      "400/400 [==============================] - 194s 486ms/step - loss: 0.0192 - acc: 0.9939 - val_loss: 0.1967 - val_acc: 0.9758\n",
      "Epoch 99/100\n",
      "400/400 [==============================] - 194s 484ms/step - loss: 0.0189 - acc: 0.9937 - val_loss: 0.1978 - val_acc: 0.9732\n",
      "Epoch 100/100\n",
      "400/400 [==============================] - 194s 485ms/step - loss: 0.0201 - acc: 0.9941 - val_loss: 0.1920 - val_acc: 0.9750\n"
     ]
    }
   ],
   "source": [
    "model.compile(loss='binary_crossentropy',\n",
    "              optimizer=optimizers.RMSprop(lr=1e-5),\n",
    "              metrics=['acc'])\n",
    "\n",
    "history = model.fit_generator(\n",
    "      train_generator,\n",
    "      steps_per_epoch=400,\n",
    "      epochs=100,\n",
    "      validation_data=validation_generator,\n",
    "      validation_steps=100)"
   ]
  },
  {
   "cell_type": "code",
   "execution_count": 45,
   "metadata": {},
   "outputs": [],
   "source": [
    "model.save('VGG16_finetuning.h5')"
   ]
  },
  {
   "cell_type": "code",
   "execution_count": 46,
   "metadata": {},
   "outputs": [
    {
     "data": {
      "image/png": "[encoded data removed]",
      "text/plain": [
       "<Figure size 432x288 with 1 Axes>"
      ]
     },
     "metadata": {},
     "output_type": "display_data"
    },
    {
     "data": {
      "image/png": "[encoded data removed]",
      "text/plain": [
       "<Figure size 432x288 with 1 Axes>"
      ]
     },
     "metadata": {},
     "output_type": "display_data"
    }
   ],
   "source": [
    "acc = history.history['acc']\n",
    "val_acc = history.history['val_acc']\n",
    "loss = history.history['loss']\n",
    "val_loss = history.history['val_loss']\n",
    "\n",
    "epochs = range(len(acc))\n",
    "\n",
    "plt.plot(epochs, acc, 'bo', label='Training acc')\n",
    "plt.plot(epochs, val_acc, 'b', label='Validation acc')\n",
    "plt.title('Training and validation accuracy')\n",
    "plt.legend()\n",
    "\n",
    "plt.figure()\n",
    "\n",
    "plt.plot(epochs, loss, 'bo', label='Training loss')\n",
    "plt.plot(epochs, val_loss, 'b', label='Validation loss')\n",
    "plt.title('Training and validation loss')\n",
    "plt.legend()\n",
    "\n",
    "plt.show()"
   ]
  },
  {
   "cell_type": "code",
   "execution_count": 47,
   "metadata": {},
   "outputs": [
    {
     "data": {
      "image/png": "[encoded data removed]",
      "text/plain": [
       "<Figure size 432x288 with 1 Axes>"
      ]
     },
     "metadata": {},
     "output_type": "display_data"
    },
    {
     "data": {
      "image/png": "[encoded data removed]",
      "text/plain": [
       "<Figure size 432x288 with 1 Axes>"
      ]
     },
     "metadata": {},
     "output_type": "display_data"
    }
   ],
   "source": [
    "def smooth_curve(points, factor=0.8):\n",
    "  smoothed_points = []\n",
    "  for point in points:\n",
    "    if smoothed_points:\n",
    "      previous = smoothed_points[-1]\n",
    "      smoothed_points.append(previous * factor + point * (1 - factor))\n",
    "    else:\n",
    "      smoothed_points.append(point)\n",
    "  return smoothed_points\n",
    "\n",
    "plt.plot(epochs,\n",
    "         smooth_curve(acc), 'bo', label='Smoothed training acc')\n",
    "plt.plot(epochs,\n",
    "         smooth_curve(val_acc), 'b', label='Smoothed validation acc')\n",
    "plt.title('Training and validation accuracy')\n",
    "plt.legend()\n",
    "\n",
    "plt.figure()\n",
    "\n",
    "plt.plot(epochs,\n",
    "         smooth_curve(loss), 'bo', label='Smoothed training loss')\n",
    "plt.plot(epochs,\n",
    "         smooth_curve(val_loss), 'b', label='Smoothed validation loss')\n",
    "plt.title('Training and validation loss')\n",
    "plt.legend()\n",
    "\n",
    "plt.show()"
   ]
  },
  {
   "cell_type": "code",
   "execution_count": null,
   "metadata": {},
   "outputs": [],
   "source": []
  }
 ],
 "metadata": {
  "kernelspec": {
   "display_name": "Python 3",
   "language": "python",
   "name": "python3"
  },
  "language_info": {
   "codemirror_mode": {
    "name": "ipython",
    "version": 3
   },
   "file_extension": ".py",
   "mimetype": "text/x-python",
   "name": "python",
   "nbconvert_exporter": "python",
   "pygments_lexer": "ipython3",
   "version": "3.5.5"
  }
 },
 "nbformat": 4,
 "nbformat_minor": 2
}
