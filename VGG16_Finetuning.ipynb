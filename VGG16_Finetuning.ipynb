{
 "cells": [
  {
   "cell_type": "markdown",
   "metadata": {},
   "source": [
    "VGG16 "
   ]
  },
  {
   "cell_type": "code",
   "execution_count": 1,
   "metadata": {},
   "outputs": [
    {
     "name": "stderr",
     "output_type": "stream",
     "text": [
      "/home/leechan/anaconda3/envs/DLCNN/lib/python3.5/site-packages/h5py/__init__.py:36: FutureWarning: Conversion of the second argument of issubdtype from `float` to `np.floating` is deprecated. In future, it will be treated as `np.float64 == np.dtype(float).type`.\n",
      "  from ._conv import register_converters as _register_converters\n",
      "Using TensorFlow backend.\n"
     ]
    },
    {
     "data": {
      "text/plain": [
       "'2.1.5'"
      ]
     },
     "execution_count": 1,
     "metadata": {},
     "output_type": "execute_result"
    }
   ],
   "source": [
    "import keras\n",
    "keras.__version__"
   ]
  },
  {
   "cell_type": "code",
   "execution_count": 2,
   "metadata": {},
   "outputs": [],
   "source": [
    "from keras.applications.vgg16 import VGG16\n",
    "\n",
    "conv_base = VGG16(weights='imagenet',\n",
    "                  include_top=False,\n",
    "                  input_shape=(224, 224, 3))"
   ]
  },
  {
   "cell_type": "code",
   "execution_count": 3,
   "metadata": {},
   "outputs": [
    {
     "name": "stdout",
     "output_type": "stream",
     "text": [
      "_________________________________________________________________\n",
      "Layer (type)                 Output Shape              Param #   \n",
      "=================================================================\n",
      "input_1 (InputLayer)         (None, 224, 224, 3)       0         \n",
      "_________________________________________________________________\n",
      "block1_conv1 (Conv2D)        (None, 224, 224, 64)      1792      \n",
      "_________________________________________________________________\n",
      "block1_conv2 (Conv2D)        (None, 224, 224, 64)      36928     \n",
      "_________________________________________________________________\n",
      "block1_pool (MaxPooling2D)   (None, 112, 112, 64)      0         \n",
      "_________________________________________________________________\n",
      "block2_conv1 (Conv2D)        (None, 112, 112, 128)     73856     \n",
      "_________________________________________________________________\n",
      "block2_conv2 (Conv2D)        (None, 112, 112, 128)     147584    \n",
      "_________________________________________________________________\n",
      "block2_pool (MaxPooling2D)   (None, 56, 56, 128)       0         \n",
      "_________________________________________________________________\n",
      "block3_conv1 (Conv2D)        (None, 56, 56, 256)       295168    \n",
      "_________________________________________________________________\n",
      "block3_conv2 (Conv2D)        (None, 56, 56, 256)       590080    \n",
      "_________________________________________________________________\n",
      "block3_conv3 (Conv2D)        (None, 56, 56, 256)       590080    \n",
      "_________________________________________________________________\n",
      "block3_pool (MaxPooling2D)   (None, 28, 28, 256)       0         \n",
      "_________________________________________________________________\n",
      "block4_conv1 (Conv2D)        (None, 28, 28, 512)       1180160   \n",
      "_________________________________________________________________\n",
      "block4_conv2 (Conv2D)        (None, 28, 28, 512)       2359808   \n",
      "_________________________________________________________________\n",
      "block4_conv3 (Conv2D)        (None, 28, 28, 512)       2359808   \n",
      "_________________________________________________________________\n",
      "block4_pool (MaxPooling2D)   (None, 14, 14, 512)       0         \n",
      "_________________________________________________________________\n",
      "block5_conv1 (Conv2D)        (None, 14, 14, 512)       2359808   \n",
      "_________________________________________________________________\n",
      "block5_conv2 (Conv2D)        (None, 14, 14, 512)       2359808   \n",
      "_________________________________________________________________\n",
      "block5_conv3 (Conv2D)        (None, 14, 14, 512)       2359808   \n",
      "_________________________________________________________________\n",
      "block5_pool (MaxPooling2D)   (None, 7, 7, 512)         0         \n",
      "=================================================================\n",
      "Total params: 14,714,688\n",
      "Trainable params: 14,714,688\n",
      "Non-trainable params: 0\n",
      "_________________________________________________________________\n"
     ]
    }
   ],
   "source": [
    "conv_base.summary()"
   ]
  },
  {
   "cell_type": "code",
   "execution_count": 4,
   "metadata": {},
   "outputs": [
    {
     "name": "stdout",
     "output_type": "stream",
     "text": [
      "Found 12500 images belonging to 1 classes.\n",
      "Found 20000 images belonging to 2 classes.\n",
      "Found 5000 images belonging to 2 classes.\n"
     ]
    }
   ],
   "source": [
    "import os\n",
    "import numpy as np\n",
    "from keras.preprocessing.image import ImageDataGenerator\n",
    "\n",
    "base_dir = '/home/leechan/Documents/Capstone_Dog vs. Cats/Project_Dogs_vs_Cats/Dataset_Dogs_vs_Cats/base'\n",
    "train_dir = os.path.join(base_dir, 'train_dir')\n",
    "validation_dir = os.path.join(base_dir, 'validation_dir')\n",
    "\n",
    "test_dir = '/home/leechan/Documents/Capstone_Dog vs. Cats/Project_Dogs_vs_Cats/Dataset_Dogs_vs_Cats/base/test_dir'\n",
    "\n",
    "datagen = ImageDataGenerator(rescale=1./255)\n",
    "batch_size = 15\n",
    "\n",
    "def extract_features(directory, sample_count):\n",
    "    features = np.zeros(shape=(sample_count, 7, 7, 512))\n",
    "    labels = np.zeros(shape=(sample_count))\n",
    "    generator = datagen.flow_from_directory(\n",
    "        directory,\n",
    "        target_size=(224, 224),\n",
    "        batch_size=batch_size,\n",
    "        class_mode='binary')\n",
    "    i = 0\n",
    "    for inputs_batch, labels_batch in generator:\n",
    "        features_batch = conv_base.predict(inputs_batch)\n",
    "        features[i * batch_size : (i + 1) * batch_size] = features_batch\n",
    "        labels[i * batch_size : (i + 1) * batch_size] = labels_batch\n",
    "        i += 1\n",
    "        if i * batch_size >= sample_count:\n",
    "            break\n",
    "            \n",
    "    return features, labels\n",
    "\n",
    "def extract_features_test(directory, sample_count):\n",
    "    features = np.zeros(shape=(sample_count, 7, 7, 512))\n",
    "    generator = datagen.flow_from_directory(\n",
    "        directory,\n",
    "        target_size=(224, 224),\n",
    "        batch_size=batch_size,\n",
    "        class_mode=None)\n",
    "    i = 0\n",
    "    for inputs_batch in generator:\n",
    "        features_batch = conv_base.predict(inputs_batch)\n",
    "        features[i * batch_size : (i + 1) * batch_size] = features_batch\n",
    "        i += 1\n",
    "        if i * batch_size >= sample_count:\n",
    "            break\n",
    "            \n",
    "    return features\n",
    "\n",
    "test_features = extract_features_test(test_dir, 12500)\n",
    "train_features, train_labels = extract_features(train_dir, 20000)\n",
    "validation_features, validation_labels = extract_features(validation_dir, 5000)"
   ]
  },
  {
   "cell_type": "code",
   "execution_count": 6,
   "metadata": {},
   "outputs": [],
   "source": [
    "train_features = np.reshape(train_features, (20000, 7 * 7 * 512))\n",
    "validation_features = np.reshape(validation_features, (5000, 7 * 7 * 512))\n",
    "test_features = np.reshape(test_features, (12500, 7 * 7 * 512))"
   ]
  },
  {
   "cell_type": "code",
   "execution_count": 7,
   "metadata": {},
   "outputs": [],
   "source": [
    "from keras import models\n",
    "from keras import layers\n",
    "from keras import optimizers\n",
    "\n",
    "model = models.Sequential()\n",
    "model.add(layers.Dense(256, activation='relu', input_dim=7 * 7 * 512))\n",
    "model.add(layers.Dropout(0.5))\n",
    "model.add(layers.Dense(1, activation='sigmoid'))\n",
    "\n",
    "model.compile(optimizer=optimizers.RMSprop(lr=2e-5),\n",
    "              loss='binary_crossentropy',\n",
    "              metrics=['acc'])"
   ]
  },
  {
   "cell_type": "code",
   "execution_count": 8,
   "metadata": {
    "scrolled": true
   },
   "outputs": [
    {
     "name": "stdout",
     "output_type": "stream",
     "text": [
      "Train on 20000 samples, validate on 5000 samples\n",
      "Epoch 1/30\n",
      "20000/20000 [==============================] - 3s 162us/step - loss: 0.3821 - acc: 0.8251 - val_loss: 0.2524 - val_acc: 0.8958\n",
      "Epoch 2/30\n",
      "20000/20000 [==============================] - 2s 97us/step - loss: 0.2346 - acc: 0.9031 - val_loss: 0.2034 - val_acc: 0.9192\n",
      "Epoch 3/30\n",
      "20000/20000 [==============================] - 2s 96us/step - loss: 0.1963 - acc: 0.9228 - val_loss: 0.2083 - val_acc: 0.9188\n",
      "Epoch 4/30\n",
      "20000/20000 [==============================] - 2s 96us/step - loss: 0.1757 - acc: 0.9287 - val_loss: 0.1789 - val_acc: 0.9306\n",
      "Epoch 5/30\n",
      "20000/20000 [==============================] - 2s 96us/step - loss: 0.1573 - acc: 0.9382 - val_loss: 0.1800 - val_acc: 0.9254\n",
      "Epoch 6/30\n",
      "20000/20000 [==============================] - 2s 96us/step - loss: 0.1468 - acc: 0.9423 - val_loss: 0.1710 - val_acc: 0.9316\n",
      "Epoch 7/30\n",
      "20000/20000 [==============================] - 2s 93us/step - loss: 0.1367 - acc: 0.9467 - val_loss: 0.1704 - val_acc: 0.9298\n",
      "Epoch 8/30\n",
      "20000/20000 [==============================] - 2s 94us/step - loss: 0.1276 - acc: 0.9511 - val_loss: 0.1703 - val_acc: 0.9326\n",
      "Epoch 9/30\n",
      "20000/20000 [==============================] - 2s 95us/step - loss: 0.1203 - acc: 0.9543 - val_loss: 0.1664 - val_acc: 0.9320\n",
      "Epoch 10/30\n",
      "20000/20000 [==============================] - 2s 95us/step - loss: 0.1123 - acc: 0.9585 - val_loss: 0.1632 - val_acc: 0.9342\n",
      "Epoch 11/30\n",
      "20000/20000 [==============================] - 2s 94us/step - loss: 0.1079 - acc: 0.9600 - val_loss: 0.1631 - val_acc: 0.9356\n",
      "Epoch 12/30\n",
      "20000/20000 [==============================] - 2s 95us/step - loss: 0.1031 - acc: 0.9620 - val_loss: 0.1624 - val_acc: 0.9366\n",
      "Epoch 13/30\n",
      "20000/20000 [==============================] - 2s 95us/step - loss: 0.0975 - acc: 0.9654 - val_loss: 0.1623 - val_acc: 0.9366\n",
      "Epoch 14/30\n",
      "20000/20000 [==============================] - 2s 98us/step - loss: 0.0913 - acc: 0.9677 - val_loss: 0.1711 - val_acc: 0.9292\n",
      "Epoch 15/30\n",
      "20000/20000 [==============================] - 2s 98us/step - loss: 0.0882 - acc: 0.9670 - val_loss: 0.1674 - val_acc: 0.9340\n",
      "Epoch 16/30\n",
      "20000/20000 [==============================] - 2s 96us/step - loss: 0.0841 - acc: 0.9709 - val_loss: 0.1637 - val_acc: 0.9362\n",
      "Epoch 17/30\n",
      "20000/20000 [==============================] - 2s 95us/step - loss: 0.0786 - acc: 0.9739 - val_loss: 0.1653 - val_acc: 0.9352\n",
      "Epoch 18/30\n",
      "20000/20000 [==============================] - 2s 97us/step - loss: 0.0767 - acc: 0.9744 - val_loss: 0.1651 - val_acc: 0.9366\n",
      "Epoch 19/30\n",
      "20000/20000 [==============================] - 2s 99us/step - loss: 0.0712 - acc: 0.9773 - val_loss: 0.1750 - val_acc: 0.9300\n",
      "Epoch 20/30\n",
      "20000/20000 [==============================] - 2s 95us/step - loss: 0.0686 - acc: 0.9778 - val_loss: 0.1705 - val_acc: 0.9302\n",
      "Epoch 21/30\n",
      "20000/20000 [==============================] - 2s 94us/step - loss: 0.0653 - acc: 0.9795 - val_loss: 0.1722 - val_acc: 0.9342\n",
      "Epoch 22/30\n",
      "20000/20000 [==============================] - 2s 95us/step - loss: 0.0609 - acc: 0.9807 - val_loss: 0.1716 - val_acc: 0.9318\n",
      "Epoch 23/30\n",
      "20000/20000 [==============================] - 2s 96us/step - loss: 0.0592 - acc: 0.9825 - val_loss: 0.1807 - val_acc: 0.9294\n",
      "Epoch 24/30\n",
      "20000/20000 [==============================] - 2s 93us/step - loss: 0.0555 - acc: 0.9836 - val_loss: 0.1698 - val_acc: 0.9368\n",
      "Epoch 25/30\n",
      "20000/20000 [==============================] - 2s 95us/step - loss: 0.0527 - acc: 0.9842 - val_loss: 0.1753 - val_acc: 0.9350\n",
      "Epoch 26/30\n",
      "20000/20000 [==============================] - 2s 95us/step - loss: 0.0507 - acc: 0.9858 - val_loss: 0.1762 - val_acc: 0.9366\n",
      "Epoch 27/30\n",
      "20000/20000 [==============================] - 2s 97us/step - loss: 0.0478 - acc: 0.9877 - val_loss: 0.1793 - val_acc: 0.9332\n",
      "Epoch 28/30\n",
      "20000/20000 [==============================] - 2s 95us/step - loss: 0.0453 - acc: 0.9879 - val_loss: 0.1722 - val_acc: 0.9354\n",
      "Epoch 29/30\n",
      "20000/20000 [==============================] - 2s 96us/step - loss: 0.0430 - acc: 0.9891 - val_loss: 0.1821 - val_acc: 0.9326\n",
      "Epoch 30/30\n",
      "20000/20000 [==============================] - 2s 95us/step - loss: 0.0417 - acc: 0.9900 - val_loss: 0.1822 - val_acc: 0.9330\n"
     ]
    }
   ],
   "source": [
    "history = model.fit(train_features, train_labels,\n",
    "                    epochs=30,\n",
    "                    batch_size=120,\n",
    "                    validation_data=(validation_features, validation_labels))"
   ]
  },
  {
   "cell_type": "code",
   "execution_count": 10,
   "metadata": {
    "scrolled": true
   },
   "outputs": [
    {
     "data": {
      "image/png": "[encoded data removed]",
      "text/plain": [
       "<Figure size 432x288 with 1 Axes>"
      ]
     },
     "metadata": {},
     "output_type": "display_data"
    },
    {
     "data": {
      "image/png": "[encoded data removed]",
      "text/plain": [
       "<Figure size 432x288 with 1 Axes>"
      ]
     },
     "metadata": {},
     "output_type": "display_data"
    }
   ],
   "source": [
    "import matplotlib.pyplot as plt\n",
    "\n",
    "acc = history.history['acc']\n",
    "val_acc = history.history['val_acc']\n",
    "loss = history.history['loss']\n",
    "val_loss = history.history['val_loss']\n",
    "\n",
    "epochs = range(len(acc))\n",
    "\n",
    "plt.plot(epochs, acc, 'bo', label='Training acc')\n",
    "plt.plot(epochs, val_acc, 'b', label='Validation acc')\n",
    "plt.title('Training and validation accuracy')\n",
    "plt.legend()\n",
    "\n",
    "plt.figure()\n",
    "\n",
    "plt.plot(epochs, loss, 'bo', label='Training loss')\n",
    "plt.plot(epochs, val_loss, 'b', label='Validation loss')\n",
    "plt.title('Training and validation loss')\n",
    "plt.legend()\n",
    "\n",
    "plt.show()"
   ]
  },
  {
   "cell_type": "markdown",
   "metadata": {},
   "source": [
    "just extracte features can only obtain about 93% val acc"
   ]
  },
  {
   "cell_type": "code",
   "execution_count": 11,
   "metadata": {},
   "outputs": [],
   "source": [
    "from keras import models\n",
    "from keras import layers\n",
    "\n",
    "model = models.Sequential()\n",
    "model.add(conv_base)\n",
    "model.add(layers.Flatten())\n",
    "model.add(layers.Dense(256, activation='relu'))\n",
    "model.add(layers.Dense(1, activation='sigmoid'))"
   ]
  },
  {
   "cell_type": "code",
   "execution_count": 12,
   "metadata": {},
   "outputs": [
    {
     "name": "stdout",
     "output_type": "stream",
     "text": [
      "_________________________________________________________________\n",
      "Layer (type)                 Output Shape              Param #   \n",
      "=================================================================\n",
      "vgg16 (Model)                (None, 7, 7, 512)         14714688  \n",
      "_________________________________________________________________\n",
      "flatten_1 (Flatten)          (None, 25088)             0         \n",
      "_________________________________________________________________\n",
      "dense_3 (Dense)              (None, 256)               6422784   \n",
      "_________________________________________________________________\n",
      "dense_4 (Dense)              (None, 1)                 257       \n",
      "=================================================================\n",
      "Total params: 21,137,729\n",
      "Trainable params: 21,137,729\n",
      "Non-trainable params: 0\n",
      "_________________________________________________________________\n"
     ]
    }
   ],
   "source": [
    "model.summary()"
   ]
  },
  {
   "cell_type": "code",
   "execution_count": 13,
   "metadata": {},
   "outputs": [
    {
     "name": "stdout",
     "output_type": "stream",
     "text": [
      "This is the number of trainable weights before freezing the conv base: 30\n"
     ]
    }
   ],
   "source": [
    "print('This is the number of trainable weights '\n",
    "      'before freezing the conv base:', len(model.trainable_weights))"
   ]
  },
  {
   "cell_type": "code",
   "execution_count": 14,
   "metadata": {},
   "outputs": [],
   "source": [
    "conv_base.trainable = False"
   ]
  },
  {
   "cell_type": "code",
   "execution_count": 15,
   "metadata": {},
   "outputs": [
    {
     "name": "stdout",
     "output_type": "stream",
     "text": [
      "This is the number of trainable weights after freezing the conv base: 4\n"
     ]
    }
   ],
   "source": [
    "print('This is the number of trainable weights '\n",
    "      'after freezing the conv base:', len(model.trainable_weights))"
   ]
  },
  {
   "cell_type": "markdown",
   "metadata": {},
   "source": [
    "illustrate why use batch size of 100"
   ]
  },
  {
   "cell_type": "code",
   "execution_count": 16,
   "metadata": {},
   "outputs": [
    {
     "name": "stdout",
     "output_type": "stream",
     "text": [
      "Found 20000 images belonging to 2 classes.\n",
      "Found 5000 images belonging to 2 classes.\n",
      "Epoch 1/50\n",
      " - 199s - loss: 0.3776 - acc: 0.8355 - val_loss: 0.2451 - val_acc: 0.9018\n",
      "Epoch 2/50\n",
      " - 185s - loss: 0.2587 - acc: 0.8905 - val_loss: 0.2404 - val_acc: 0.9008\n",
      "Epoch 3/50\n",
      " - 184s - loss: 0.2317 - acc: 0.9037 - val_loss: 0.1914 - val_acc: 0.9246\n",
      "Epoch 4/50\n",
      " - 184s - loss: 0.2155 - acc: 0.9101 - val_loss: 0.2068 - val_acc: 0.9186\n",
      "Epoch 5/50\n",
      " - 184s - loss: 0.2038 - acc: 0.9136 - val_loss: 0.1709 - val_acc: 0.9338\n",
      "Epoch 6/50\n",
      " - 184s - loss: 0.1982 - acc: 0.9176 - val_loss: 0.1734 - val_acc: 0.9332\n",
      "Epoch 7/50\n",
      " - 184s - loss: 0.1892 - acc: 0.9211 - val_loss: 0.1612 - val_acc: 0.9382\n",
      "Epoch 8/50\n",
      " - 185s - loss: 0.1835 - acc: 0.9233 - val_loss: 0.1634 - val_acc: 0.9370\n",
      "Epoch 9/50\n",
      " - 185s - loss: 0.1822 - acc: 0.9252 - val_loss: 0.1597 - val_acc: 0.9386\n",
      "Epoch 10/50\n",
      " - 184s - loss: 0.1824 - acc: 0.9233 - val_loss: 0.1877 - val_acc: 0.9266\n",
      "Epoch 11/50\n",
      " - 184s - loss: 0.1761 - acc: 0.9293 - val_loss: 0.1583 - val_acc: 0.9410\n",
      "Epoch 12/50\n",
      " - 185s - loss: 0.1774 - acc: 0.9261 - val_loss: 0.1572 - val_acc: 0.9376\n",
      "Epoch 13/50\n",
      " - 184s - loss: 0.1735 - acc: 0.9284 - val_loss: 0.1656 - val_acc: 0.9376\n",
      "Epoch 14/50\n",
      " - 184s - loss: 0.1704 - acc: 0.9297 - val_loss: 0.1550 - val_acc: 0.9376\n",
      "Epoch 15/50\n",
      " - 184s - loss: 0.1691 - acc: 0.9292 - val_loss: 0.1584 - val_acc: 0.9402\n",
      "Epoch 16/50\n",
      " - 184s - loss: 0.1679 - acc: 0.9300 - val_loss: 0.1564 - val_acc: 0.9370\n",
      "Epoch 17/50\n",
      " - 184s - loss: 0.1645 - acc: 0.9316 - val_loss: 0.1915 - val_acc: 0.9230\n",
      "Epoch 18/50\n",
      " - 185s - loss: 0.1631 - acc: 0.9330 - val_loss: 0.1542 - val_acc: 0.9410\n",
      "Epoch 19/50\n",
      " - 184s - loss: 0.1650 - acc: 0.9322 - val_loss: 0.1716 - val_acc: 0.9340\n",
      "Epoch 20/50\n",
      " - 184s - loss: 0.1615 - acc: 0.9327 - val_loss: 0.1633 - val_acc: 0.9346\n",
      "Epoch 21/50\n",
      " - 184s - loss: 0.1630 - acc: 0.9333 - val_loss: 0.1729 - val_acc: 0.9330\n",
      "Epoch 22/50\n",
      " - 185s - loss: 0.1563 - acc: 0.9359 - val_loss: 0.1529 - val_acc: 0.9438\n",
      "Epoch 23/50\n",
      " - 184s - loss: 0.1549 - acc: 0.9366 - val_loss: 0.1563 - val_acc: 0.9430\n",
      "Epoch 24/50\n",
      " - 184s - loss: 0.1548 - acc: 0.9364 - val_loss: 0.1510 - val_acc: 0.9430\n",
      "Epoch 25/50\n",
      " - 184s - loss: 0.1550 - acc: 0.9379 - val_loss: 0.1612 - val_acc: 0.9392\n",
      "Epoch 26/50\n",
      " - 184s - loss: 0.1528 - acc: 0.9364 - val_loss: 0.1506 - val_acc: 0.9422\n",
      "Epoch 27/50\n",
      " - 184s - loss: 0.1538 - acc: 0.9382 - val_loss: 0.1518 - val_acc: 0.9420\n",
      "Epoch 28/50\n",
      " - 184s - loss: 0.1520 - acc: 0.9381 - val_loss: 0.1496 - val_acc: 0.9424\n",
      "Epoch 29/50\n",
      " - 185s - loss: 0.1520 - acc: 0.9390 - val_loss: 0.1590 - val_acc: 0.9398\n",
      "Epoch 30/50\n",
      " - 184s - loss: 0.1500 - acc: 0.9380 - val_loss: 0.1543 - val_acc: 0.9438\n",
      "Epoch 31/50\n",
      " - 184s - loss: 0.1486 - acc: 0.9396 - val_loss: 0.1518 - val_acc: 0.9446\n",
      "Epoch 32/50\n",
      " - 185s - loss: 0.1452 - acc: 0.9408 - val_loss: 0.1560 - val_acc: 0.9436\n",
      "Epoch 33/50\n",
      " - 185s - loss: 0.1473 - acc: 0.9409 - val_loss: 0.1497 - val_acc: 0.9412\n",
      "Epoch 34/50\n",
      " - 184s - loss: 0.1452 - acc: 0.9420 - val_loss: 0.1482 - val_acc: 0.9444\n",
      "Epoch 35/50\n",
      " - 184s - loss: 0.1458 - acc: 0.9415 - val_loss: 0.1484 - val_acc: 0.9452\n",
      "Epoch 36/50\n",
      " - 186s - loss: 0.1421 - acc: 0.9430 - val_loss: 0.1523 - val_acc: 0.9392\n",
      "Epoch 37/50\n",
      " - 186s - loss: 0.1409 - acc: 0.9422 - val_loss: 0.1696 - val_acc: 0.9346\n",
      "Epoch 38/50\n",
      " - 184s - loss: 0.1415 - acc: 0.9410 - val_loss: 0.1494 - val_acc: 0.9390\n",
      "Epoch 39/50\n",
      " - 184s - loss: 0.1398 - acc: 0.9425 - val_loss: 0.1575 - val_acc: 0.9426\n",
      "Epoch 40/50\n",
      " - 184s - loss: 0.1400 - acc: 0.9428 - val_loss: 0.1542 - val_acc: 0.9440\n",
      "Epoch 41/50\n",
      " - 185s - loss: 0.1418 - acc: 0.9406 - val_loss: 0.1551 - val_acc: 0.9418\n",
      "Epoch 42/50\n",
      " - 185s - loss: 0.1384 - acc: 0.9439 - val_loss: 0.1454 - val_acc: 0.9460\n",
      "Epoch 43/50\n",
      " - 184s - loss: 0.1384 - acc: 0.9433 - val_loss: 0.1775 - val_acc: 0.9304\n",
      "Epoch 44/50\n",
      " - 189s - loss: 0.1382 - acc: 0.9449 - val_loss: 0.1511 - val_acc: 0.9460\n",
      "Epoch 45/50\n",
      " - 184s - loss: 0.1340 - acc: 0.9445 - val_loss: 0.1641 - val_acc: 0.9376\n",
      "Epoch 46/50\n",
      " - 185s - loss: 0.1381 - acc: 0.9421 - val_loss: 0.1469 - val_acc: 0.9452\n",
      "Epoch 47/50\n",
      " - 185s - loss: 0.1353 - acc: 0.9457 - val_loss: 0.1460 - val_acc: 0.9430\n",
      "Epoch 48/50\n",
      " - 185s - loss: 0.1352 - acc: 0.9443 - val_loss: 0.1486 - val_acc: 0.9458\n",
      "Epoch 49/50\n",
      " - 185s - loss: 0.1336 - acc: 0.9462 - val_loss: 0.1440 - val_acc: 0.9442\n",
      "Epoch 50/50\n",
      " - 184s - loss: 0.1307 - acc: 0.9476 - val_loss: 0.1582 - val_acc: 0.9406\n"
     ]
    }
   ],
   "source": [
    "from keras.preprocessing.image import ImageDataGenerator\n",
    "\n",
    "train_datagen = ImageDataGenerator(\n",
    "      rescale=1./255,\n",
    "      rotation_range=20,\n",
    "      width_shift_range=0.1,\n",
    "      height_shift_range=0.1,\n",
    "      shear_range=0.1,\n",
    "      zoom_range=0.2,\n",
    "      horizontal_flip=True,\n",
    "      fill_mode='nearest')\n",
    "\n",
    "# Note that the validation data should not be augmented!\n",
    "test_datagen = ImageDataGenerator(rescale=1./255)\n",
    "\n",
    "train_generator = train_datagen.flow_from_directory(\n",
    "        # This is the target directory\n",
    "        train_dir,\n",
    "        # All images will be resized to 224x224\n",
    "        target_size=(224, 224),\n",
    "        batch_size=100,\n",
    "        # Since we use binary_crossentropy loss, we need binary labels\n",
    "        class_mode='binary')\n",
    "\n",
    "validation_generator = test_datagen.flow_from_directory(\n",
    "        validation_dir,\n",
    "        target_size=(224, 224),\n",
    "        batch_size=100,\n",
    "        class_mode='binary')\n",
    "\n",
    "model.compile(loss='binary_crossentropy',\n",
    "              optimizer=optimizers.RMSprop(lr=2e-5),\n",
    "              metrics=['acc'])\n",
    "\n",
    "history = model.fit_generator(\n",
    "      train_generator,\n",
    "      steps_per_epoch=200,\n",
    "      epochs=50,\n",
    "      validation_data=validation_generator,\n",
    "      validation_steps=50,\n",
    "      verbose=2)"
   ]
  },
  {
   "cell_type": "code",
   "execution_count": 17,
   "metadata": {},
   "outputs": [],
   "source": [
    "model.save('VGG16_top_classifier_training.h5')"
   ]
  },
  {
   "cell_type": "code",
   "execution_count": 18,
   "metadata": {},
   "outputs": [
    {
     "data": {
      "image/png": "[encoded data removed]",
      "text/plain": [
       "<Figure size 432x288 with 1 Axes>"
      ]
     },
     "metadata": {},
     "output_type": "display_data"
    },
    {
     "data": {
      "image/png": "[encoded data removed]",
      "text/plain": [
       "<Figure size 432x288 with 1 Axes>"
      ]
     },
     "metadata": {},
     "output_type": "display_data"
    }
   ],
   "source": [
    "acc = history.history['acc']\n",
    "val_acc = history.history['val_acc']\n",
    "loss = history.history['loss']\n",
    "val_loss = history.history['val_loss']\n",
    "\n",
    "epochs = range(len(acc))\n",
    "\n",
    "plt.plot(epochs, acc, 'bo', label='Training acc')\n",
    "plt.plot(epochs, val_acc, 'b', label='Validation acc')\n",
    "plt.title('Training and validation accuracy')\n",
    "plt.legend()\n",
    "\n",
    "plt.figure()\n",
    "\n",
    "plt.plot(epochs, loss, 'bo', label='Training loss')\n",
    "plt.plot(epochs, val_loss, 'b', label='Validation loss')\n",
    "plt.title('Training and validation loss')\n",
    "plt.legend()\n",
    "\n",
    "plt.show()"
   ]
  },
  {
   "cell_type": "code",
   "execution_count": 19,
   "metadata": {},
   "outputs": [
    {
     "name": "stdout",
     "output_type": "stream",
     "text": [
      "_________________________________________________________________\n",
      "Layer (type)                 Output Shape              Param #   \n",
      "=================================================================\n",
      "input_1 (InputLayer)         (None, 224, 224, 3)       0         \n",
      "_________________________________________________________________\n",
      "block1_conv1 (Conv2D)        (None, 224, 224, 64)      1792      \n",
      "_________________________________________________________________\n",
      "block1_conv2 (Conv2D)        (None, 224, 224, 64)      36928     \n",
      "_________________________________________________________________\n",
      "block1_pool (MaxPooling2D)   (None, 112, 112, 64)      0         \n",
      "_________________________________________________________________\n",
      "block2_conv1 (Conv2D)        (None, 112, 112, 128)     73856     \n",
      "_________________________________________________________________\n",
      "block2_conv2 (Conv2D)        (None, 112, 112, 128)     147584    \n",
      "_________________________________________________________________\n",
      "block2_pool (MaxPooling2D)   (None, 56, 56, 128)       0         \n",
      "_________________________________________________________________\n",
      "block3_conv1 (Conv2D)        (None, 56, 56, 256)       295168    \n",
      "_________________________________________________________________\n",
      "block3_conv2 (Conv2D)        (None, 56, 56, 256)       590080    \n",
      "_________________________________________________________________\n",
      "block3_conv3 (Conv2D)        (None, 56, 56, 256)       590080    \n",
      "_________________________________________________________________\n",
      "block3_pool (MaxPooling2D)   (None, 28, 28, 256)       0         \n",
      "_________________________________________________________________\n",
      "block4_conv1 (Conv2D)        (None, 28, 28, 512)       1180160   \n",
      "_________________________________________________________________\n",
      "block4_conv2 (Conv2D)        (None, 28, 28, 512)       2359808   \n",
      "_________________________________________________________________\n",
      "block4_conv3 (Conv2D)        (None, 28, 28, 512)       2359808   \n",
      "_________________________________________________________________\n",
      "block4_pool (MaxPooling2D)   (None, 14, 14, 512)       0         \n",
      "_________________________________________________________________\n",
      "block5_conv1 (Conv2D)        (None, 14, 14, 512)       2359808   \n",
      "_________________________________________________________________\n",
      "block5_conv2 (Conv2D)        (None, 14, 14, 512)       2359808   \n",
      "_________________________________________________________________\n",
      "block5_conv3 (Conv2D)        (None, 14, 14, 512)       2359808   \n",
      "_________________________________________________________________\n",
      "block5_pool (MaxPooling2D)   (None, 7, 7, 512)         0         \n",
      "=================================================================\n",
      "Total params: 14,714,688\n",
      "Trainable params: 0\n",
      "Non-trainable params: 14,714,688\n",
      "_________________________________________________________________\n"
     ]
    }
   ],
   "source": [
    "conv_base.summary()"
   ]
  },
  {
   "cell_type": "markdown",
   "metadata": {},
   "source": [
    "Fintuning: freezing the last 3 conv layer didn't get very impressive result, so I decide to freezing the last 5 conv and see how well it perform. actually, if the layer is very deep, it should come with more specific feature."
   ]
  },
  {
   "cell_type": "code",
   "execution_count": 20,
   "metadata": {},
   "outputs": [],
   "source": [
    "conv_base.trainable = True\n",
    "\n",
    "set_trainable = False\n",
    "for layer in conv_base.layers:\n",
    "    if layer.name == 'block4_conv3':\n",
    "        set_trainable = True\n",
    "    if set_trainable:\n",
    "        layer.trainable = True\n",
    "    else:\n",
    "        layer.trainable = False"
   ]
  },
  {
   "cell_type": "code",
   "execution_count": 21,
   "metadata": {},
   "outputs": [
    {
     "name": "stdout",
     "output_type": "stream",
     "text": [
      "Epoch 1/50\n",
      "200/200 [==============================] - 200s 1000ms/step - loss: 0.1404 - acc: 0.9440 - val_loss: 0.1353 - val_acc: 0.9536\n",
      "Epoch 2/50\n",
      "200/200 [==============================] - 187s 936ms/step - loss: 0.1007 - acc: 0.9597 - val_loss: 0.1055 - val_acc: 0.9586\n",
      "Epoch 3/50\n",
      "200/200 [==============================] - 189s 944ms/step - loss: 0.0843 - acc: 0.9665 - val_loss: 0.1285 - val_acc: 0.9610\n",
      "Epoch 4/50\n",
      "200/200 [==============================] - 188s 938ms/step - loss: 0.0758 - acc: 0.9709 - val_loss: 0.1329 - val_acc: 0.9580\n",
      "Epoch 5/50\n",
      "200/200 [==============================] - 189s 943ms/step - loss: 0.0660 - acc: 0.9745 - val_loss: 0.0939 - val_acc: 0.9704\n",
      "Epoch 6/50\n",
      "200/200 [==============================] - 189s 943ms/step - loss: 0.0568 - acc: 0.9777 - val_loss: 0.0946 - val_acc: 0.9714\n",
      "Epoch 7/50\n",
      "200/200 [==============================] - 188s 939ms/step - loss: 0.0542 - acc: 0.9789 - val_loss: 0.0918 - val_acc: 0.9722\n",
      "Epoch 8/50\n",
      "200/200 [==============================] - 187s 937ms/step - loss: 0.0442 - acc: 0.9835 - val_loss: 0.0957 - val_acc: 0.9738\n",
      "Epoch 9/50\n",
      "200/200 [==============================] - 188s 939ms/step - loss: 0.0415 - acc: 0.9851 - val_loss: 0.1063 - val_acc: 0.9716\n",
      "Epoch 10/50\n",
      "200/200 [==============================] - 188s 938ms/step - loss: 0.0366 - acc: 0.9867 - val_loss: 0.1221 - val_acc: 0.9682\n"
     ]
    }
   ],
   "source": [
    "from keras.callbacks import EarlyStopping\n",
    "\n",
    "early_stopping = EarlyStopping(monitor='val_loss',patience=3)\n",
    "\n",
    "model.compile(loss='binary_crossentropy',\n",
    "              optimizer=optimizers.RMSprop(lr=1e-5),\n",
    "              metrics=['acc'])\n",
    "\n",
    "history = model.fit_generator(\n",
    "      train_generator,\n",
    "      steps_per_epoch=200,\n",
    "      epochs=50,\n",
    "      validation_data=validation_generator,\n",
    "      validation_steps=50,\n",
    "      callbacks=[early_stopping])"
   ]
  },
  {
   "cell_type": "code",
   "execution_count": 22,
   "metadata": {},
   "outputs": [],
   "source": [
    "model.save('VGG16_finetuning.h5')"
   ]
  },
  {
   "cell_type": "code",
   "execution_count": 23,
   "metadata": {},
   "outputs": [
    {
     "data": {
      "image/png": "[encoded data removed]",
      "text/plain": [
       "<Figure size 432x288 with 1 Axes>"
      ]
     },
     "metadata": {},
     "output_type": "display_data"
    },
    {
     "data": {
      "image/png": "[encoded data removed]",
      "text/plain": [
       "<Figure size 432x288 with 1 Axes>"
      ]
     },
     "metadata": {},
     "output_type": "display_data"
    }
   ],
   "source": [
    "acc = history.history['acc']\n",
    "val_acc = history.history['val_acc']\n",
    "loss = history.history['loss']\n",
    "val_loss = history.history['val_loss']\n",
    "\n",
    "epochs = range(len(acc))\n",
    "\n",
    "plt.plot(epochs, acc, 'bo', label='Training acc')\n",
    "plt.plot(epochs, val_acc, 'b', label='Validation acc')\n",
    "plt.title('Training and validation accuracy')\n",
    "plt.legend()\n",
    "\n",
    "plt.figure()\n",
    "\n",
    "plt.plot(epochs, loss, 'bo', label='Training loss')\n",
    "plt.plot(epochs, val_loss, 'b', label='Validation loss')\n",
    "plt.title('Training and validation loss')\n",
    "plt.legend()\n",
    "\n",
    "plt.show()"
   ]
  },
  {
   "cell_type": "markdown",
   "metadata": {},
   "source": [
    "shuffle=False is very important, or not when predict generate we can't catch order."
   ]
  },
  {
   "cell_type": "code",
   "execution_count": 85,
   "metadata": {},
   "outputs": [
    {
     "name": "stdout",
     "output_type": "stream",
     "text": [
      "Found 12500 images belonging to 1 classes.\n",
      "['test/1.jpg', 'test/10.jpg', 'test/100.jpg', 'test/1000.jpg', 'test/10000.jpg', 'test/10001.jpg', 'test/10002.jpg', 'test/10003.jpg', 'test/10004.jpg', 'test/10005.jpg']\n"
     ]
    }
   ],
   "source": [
    "test_generator = test_datagen.flow_from_directory(\n",
    "        test_dir,\n",
    "        target_size=(224, 224),\n",
    "        batch_size=100,\n",
    "        class_mode=None,\n",
    "        shuffle=False)\n",
    "\n",
    "id_batch = test_generator.filenames\n",
    "print(id_batch[:10])"
   ]
  },
  {
   "cell_type": "code",
   "execution_count": 86,
   "metadata": {},
   "outputs": [],
   "source": [
    "y_pred = model.predict_generator(generator=test_generator,\n",
    "                                 steps = 125,\n",
    "                                 workers=1)"
   ]
  },
  {
   "cell_type": "code",
   "execution_count": 88,
   "metadata": {},
   "outputs": [],
   "source": [
    "y_pred = y_pred.clip(min=0.005, max=0.995)\n",
    "y_pred = y_pred.reshape(12500,)"
   ]
  },
  {
   "cell_type": "code",
   "execution_count": 89,
   "metadata": {},
   "outputs": [
    {
     "name": "stderr",
     "output_type": "stream",
     "text": [
      "100%|██████████| 12500/12500 [00:00<00:00, 544217.24it/s]\n"
     ]
    }
   ],
   "source": [
    "from tqdm import tqdm\n",
    "\n",
    "with open('VGG16_Fintuning.csv','w') as f:\n",
    "    f.write('id,label\\n')\n",
    "    \n",
    "with open('VGG16_Fintuning.csv','a') as f:\n",
    "    i = 0\n",
    "    for img_label in tqdm(y_pred):\n",
    "        img_name = id_batch[i]\n",
    "        img_id = int(img_name[img_name.rfind('/')+1:img_name.rfind('.')])\n",
    "        f.write('{},{}\\n'.format(img_id,img_label))\n",
    "        i+=1"
   ]
  },
  {
   "cell_type": "markdown",
   "metadata": {},
   "source": [
    "Score:0.10118\n"
   ]
  }
 ],
 "metadata": {
  "kernelspec": {
   "display_name": "Python 3",
   "language": "python",
   "name": "python3"
  },
  "language_info": {
   "codemirror_mode": {
    "name": "ipython",
    "version": 3
   },
   "file_extension": ".py",
   "mimetype": "text/x-python",
   "name": "python",
   "nbconvert_exporter": "python",
   "pygments_lexer": "ipython3",
   "version": "3.5.5"
  }
 },
 "nbformat": 4,
 "nbformat_minor": 2
}
