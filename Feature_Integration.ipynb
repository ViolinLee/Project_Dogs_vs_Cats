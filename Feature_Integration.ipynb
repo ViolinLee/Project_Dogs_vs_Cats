{
 "cells": [
  {
   "cell_type": "code",
   "execution_count": 1,
   "metadata": {},
   "outputs": [],
   "source": [
    "import os, shutil\n",
    "import numpy as np\n",
    "\n",
    "base_dir = '/home/leechan/Documents/Capstone_Dog vs. Cats/Project_Dogs_vs_Cats/Dataset_Dogs_vs_Cats/base'\n",
    "train2 = os.path.join(base_dir, 'train2')\n",
    "if not os.path.isdir(train2):\n",
    "    os.mkdir(train2)\n",
    "\n",
    "test2 = '/home/leechan/Documents/Capstone_Dog vs. Cats/Project_Dogs_vs_Cats/Dataset_Dogs_vs_Cats/base/test_dir'\n",
    "\n",
    "train2_cats = os.path.join(train2, 'cats')\n",
    "if not os.path.isdir(train2_cats):\n",
    "    os.mkdir(train2_cats)\n",
    "\n",
    "train2_dogs = os.path.join(train2, 'dogs')\n",
    "if not os.path.isdir(train2_dogs):\n",
    "    os.mkdir(train2_dogs)"
   ]
  },
  {
   "cell_type": "code",
   "execution_count": null,
   "metadata": {},
   "outputs": [],
   "source": [
    "origin_train_dir = '/home/leechan/Documents/Capstone_Dog vs. Cats/Project_Dogs_vs_Cats/Dataset_Dogs_vs_Cats/train'\n",
    "\n",
    "filenames = ['cat.{}.jpg'.format(i) for i in range(12500)]\n",
    "for filename in filenames:\n",
    "    src = os.path.join(origin_train_dir, filename)\n",
    "    dst = os.path.join(train2_cats, filename)\n",
    "    shutil.copyfile(src, dst)\n",
    "    \n",
    "filenames = ['dog.{}.jpg'.format(i) for i in range(12500)]\n",
    "for filename in filenames:\n",
    "    src = os.path.join(origin_train_dir, filename)\n",
    "    dst = os.path.join(train2_dogs, filename)\n",
    "    shutil.copyfile(src, dst)"
   ]
  },
  {
   "cell_type": "code",
   "execution_count": null,
   "metadata": {},
   "outputs": [],
   "source": [
    "from keras.models import Model,Input\n",
    "from keras.layers import GlobalAveragePooling2D, Lambda \n",
    "from keras.applications import ResNet50, InceptionV3, Xception, resnet50, inception_v3, xception\n",
    "from keras.preprocessing.image import ImageDataGenerator\n",
    "\n",
    "import h5py\n",
    "\n",
    "def write_gap(MODEL, image_size, lambda_func=None):\n",
    "    width = image_size[0]\n",
    "    height = image_size[1]\n",
    "    input_tensor = Input((height, width, 3))\n",
    "    x = input_tensor\n",
    "    if lambda_func:\n",
    "        x = Lambda(lambda_func)(x)\n",
    "    \n",
    "    base_model = MODEL(input_tensor=x, weights='imagenet', include_top=False)\n",
    "    model = Model(base_model.input, GlobalAveragePooling2D()(base_model.output))\n",
    "    \n",
    "    gen = ImageDataGenerator()\n",
    "    batch_size = 15\n",
    "    \n",
    "    train_generator = gen.flow_from_directory(train2, image_size, shuffle=False, batch_size=batch_size, class_mode='binary')\n",
    "    test_generator = gen.flow_from_directory(test2, image_size, shuffle=False, batch_size=batch_size, class_mode=None)\n",
    "    \n",
    "    train = np.zeros(shape=(25000, 2048))\n",
    "    test = np.zeros(shape=(12500, 2048))\n",
    "    label = np.zeros(shape=(25000,))\n",
    "    \n",
    "    i = 0\n",
    "    j = 0\n",
    "    for train_inputs_batch, train_labels_batch in train_generator:\n",
    "        train_features_batch = model.predict(train_inputs_batch)\n",
    "        train[i * batch_size : (i + 1) * batch_size] = train_features_batch\n",
    "        label[i * batch_size : (i + 1) * batch_size] = train_labels_batch\n",
    "        \n",
    "        i += 1\n",
    "        if i * batch_size >= 25000:\n",
    "            break\n",
    "    \n",
    "    for test_inputs_batch in test_generator:\n",
    "        test_features_batch = model.predict(test_inputs_batch)\n",
    "        test[j * batch_size : (j + 1) * batch_size] = test_features_batch\n",
    "        \n",
    "        j += 1\n",
    "        if j * batch_size >= 12500:\n",
    "            break\n",
    "\n",
    "    with h5py.File(\"gap_%s.h5\"%MODEL.__name__) as h:        \n",
    "        h.create_dataset(\"train\", data=train)\n",
    "        h.create_dataset(\"label\", data=label)\n",
    "        h.create_dataset(\"test\", data=test)\n",
    "        \n",
    "        \n",
    "write_gap(ResNet50, (224, 224), resnet50.preprocess_input)\n",
    "write_gap(InceptionV3, (299, 299), inception_v3.preprocess_input)\n",
    "write_gap(Xception, (299, 299), xception.preprocess_input)"
   ]
  },
  {
   "cell_type": "code",
   "execution_count": 3,
   "metadata": {},
   "outputs": [
    {
     "name": "stdout",
     "output_type": "stream",
     "text": [
      "(25000, 6144)\n",
      "(12500, 6144)\n",
      "(25000,)\n"
     ]
    }
   ],
   "source": [
    "from sklearn.utils import shuffle\n",
    "#np.random.seed(2018)\n",
    "\n",
    "X_train = []\n",
    "X_test = []\n",
    "\n",
    "for filename in [\"gap_ResNet50.h5\", \"gap_Xception.h5\", \"gap_InceptionV3.h5\"]:\n",
    "    with h5py.File(filename, 'r') as h:\n",
    "        X_train.append(np.array(h['train']))\n",
    "        X_test.append(np.array(h['test']))\n",
    "        y_train = np.array(h['label'])\n",
    "\n",
    "X_train = np.concatenate(X_train, axis=1)\n",
    "X_test = np.concatenate(X_test, axis=1)\n",
    "\n",
    "print(np.array(X_train).shape)\n",
    "print(np.array(X_test).shape)\n",
    "print(np.array(y_train).shape)\n",
    "\n",
    "X_train, y_train = shuffle(X_train, y_train)"
   ]
  },
  {
   "cell_type": "code",
   "execution_count": 4,
   "metadata": {},
   "outputs": [
    {
     "name": "stderr",
     "output_type": "stream",
     "text": [
      "Using TensorFlow backend.\n"
     ]
    }
   ],
   "source": [
    "from keras.models import Input, Model\n",
    "from keras.layers import Dropout, Dense\n",
    "from keras import optimizers\n",
    "\n",
    "input_tensor = Input(X_train.shape[1:])\n",
    "x = input_tensor\n",
    "#x = Dense(1536, activation='relu')(x)\n",
    "x = Dropout(0.5)(x)\n",
    "x = Dense(1, activation='sigmoid')(x)\n",
    "model = Model(input_tensor, x)\n",
    "\n",
    "model.compile(optimizer='adadelta',\n",
    "              loss='binary_crossentropy',\n",
    "              metrics=['accuracy'])"
   ]
  },
  {
   "cell_type": "code",
   "execution_count": 5,
   "metadata": {},
   "outputs": [
    {
     "name": "stdout",
     "output_type": "stream",
     "text": [
      "Train on 20000 samples, validate on 5000 samples\n",
      "Epoch 1/12\n",
      "20000/20000 [==============================] - 2s 82us/step - loss: 0.0644 - acc: 0.9787 - val_loss: 0.0178 - val_acc: 0.9930\n",
      "Epoch 2/12\n",
      "20000/20000 [==============================] - 1s 33us/step - loss: 0.0183 - acc: 0.9941 - val_loss: 0.0185 - val_acc: 0.9922\n",
      "Epoch 3/12\n",
      "20000/20000 [==============================] - 1s 34us/step - loss: 0.0161 - acc: 0.9951 - val_loss: 0.0145 - val_acc: 0.9938\n",
      "Epoch 4/12\n",
      "20000/20000 [==============================] - 1s 37us/step - loss: 0.0141 - acc: 0.9952 - val_loss: 0.0148 - val_acc: 0.9932\n",
      "Epoch 5/12\n",
      "20000/20000 [==============================] - 1s 40us/step - loss: 0.0135 - acc: 0.9954 - val_loss: 0.0161 - val_acc: 0.9944\n",
      "Epoch 6/12\n",
      "20000/20000 [==============================] - 1s 38us/step - loss: 0.0119 - acc: 0.9959 - val_loss: 0.0162 - val_acc: 0.9944\n",
      "Epoch 7/12\n",
      "20000/20000 [==============================] - 1s 38us/step - loss: 0.0110 - acc: 0.9961 - val_loss: 0.0147 - val_acc: 0.9938\n",
      "Epoch 8/12\n",
      "20000/20000 [==============================] - 1s 31us/step - loss: 0.0103 - acc: 0.9965 - val_loss: 0.0178 - val_acc: 0.9944\n",
      "Epoch 9/12\n",
      "20000/20000 [==============================] - 1s 32us/step - loss: 0.0096 - acc: 0.9969 - val_loss: 0.0160 - val_acc: 0.9938\n",
      "Epoch 10/12\n",
      "20000/20000 [==============================] - 1s 29us/step - loss: 0.0094 - acc: 0.9972 - val_loss: 0.0159 - val_acc: 0.9928\n",
      "Epoch 11/12\n",
      "20000/20000 [==============================] - 1s 30us/step - loss: 0.0093 - acc: 0.9968 - val_loss: 0.0157 - val_acc: 0.9942\n",
      "Epoch 12/12\n",
      "20000/20000 [==============================] - 1s 31us/step - loss: 0.0086 - acc: 0.9974 - val_loss: 0.0181 - val_acc: 0.9946\n"
     ]
    }
   ],
   "source": [
    "history = model.fit(X_train, y_train, batch_size=100, epochs =12, validation_split=0.2)"
   ]
  },
  {
   "cell_type": "code",
   "execution_count": 7,
   "metadata": {},
   "outputs": [
    {
     "data": {
      "image/png": "[encoded data removed]",
      "text/plain": [
       "<Figure size 432x288 with 1 Axes>"
      ]
     },
     "metadata": {},
     "output_type": "display_data"
    },
    {
     "data": {
      "image/png": "[encoded data removed]",
      "text/plain": [
       "<Figure size 432x288 with 1 Axes>"
      ]
     },
     "metadata": {},
     "output_type": "display_data"
    }
   ],
   "source": [
    "import matplotlib.pyplot as plt\n",
    "\n",
    "acc = history.history['acc']\n",
    "val_acc = history.history['val_acc']\n",
    "loss = history.history['loss']\n",
    "val_loss = history.history['val_loss']\n",
    "\n",
    "epochs = range(len(acc))\n",
    "\n",
    "plt.plot(epochs, acc, 'bo', label='Training acc')\n",
    "plt.plot(epochs, val_acc, 'b', label='Validation acc')\n",
    "plt.title('Training and validation accuracy')\n",
    "plt.legend()\n",
    "\n",
    "plt.figure()\n",
    "\n",
    "plt.plot(epochs, loss, 'bo', label='Training loss')\n",
    "plt.plot(epochs, val_loss, 'b', label='Validation loss')\n",
    "plt.title('Training and validation loss')\n",
    "plt.legend()\n",
    "\n",
    "plt.show()"
   ]
  },
  {
   "cell_type": "code",
   "execution_count": 8,
   "metadata": {},
   "outputs": [
    {
     "name": "stdout",
     "output_type": "stream",
     "text": [
      "12500/12500 [==============================] - 0s 35us/step\n"
     ]
    }
   ],
   "source": [
    "y_pred = model.predict(X_test, verbose=1)\n",
    "y_pred = y_pred.clip(min=0.005, max=0.995)\n",
    "y_pred = y_pred.reshape(12500,)"
   ]
  },
  {
   "cell_type": "code",
   "execution_count": 9,
   "metadata": {},
   "outputs": [
    {
     "name": "stdout",
     "output_type": "stream",
     "text": [
      "Found 12500 images belonging to 1 classes.\n",
      "['test/1.jpg', 'test/10.jpg', 'test/100.jpg', 'test/1000.jpg', 'test/10000.jpg', 'test/10001.jpg', 'test/10002.jpg', 'test/10003.jpg', 'test/10004.jpg', 'test/10005.jpg']\n"
     ]
    }
   ],
   "source": [
    "from keras.preprocessing.image import ImageDataGenerator\n",
    "test_datagen = ImageDataGenerator()\n",
    "\n",
    "test_dir = '/home/leechan/Documents/Capstone_Dog vs. Cats/Project_Dogs_vs_Cats/Dataset_Dogs_vs_Cats/base/test_dir'\n",
    "\n",
    "test_generator = test_datagen.flow_from_directory(\n",
    "        test_dir,\n",
    "        target_size=(299, 299),\n",
    "        batch_size=100,\n",
    "        class_mode=None,\n",
    "        shuffle=False)\n",
    "\n",
    "id_batch = test_generator.filenames\n",
    "print(id_batch[:10])"
   ]
  },
  {
   "cell_type": "code",
   "execution_count": 10,
   "metadata": {},
   "outputs": [
    {
     "name": "stderr",
     "output_type": "stream",
     "text": [
      "100%|██████████| 12500/12500 [00:00<00:00, 323321.23it/s]\n"
     ]
    }
   ],
   "source": [
    "from tqdm import tqdm\n",
    "\n",
    "with open('Feature_Integration.csv','w') as f:\n",
    "    f.write('id,label\\n')\n",
    "    \n",
    "with open('Feature_Integration.csv','a') as f:\n",
    "    i = 0\n",
    "    for img_label in tqdm(y_pred):\n",
    "        img_name = id_batch[i]\n",
    "        img_id = int(img_name[img_name.rfind('/')+1:img_name.rfind('.')])\n",
    "        f.write('{},{}\\n'.format(img_id,img_label))\n",
    "        i+=1"
   ]
  },
  {
   "cell_type": "code",
   "execution_count": null,
   "metadata": {},
   "outputs": [],
   "source": []
  }
 ],
 "metadata": {
  "kernelspec": {
   "display_name": "Python 3",
   "language": "python",
   "name": "python3"
  },
  "language_info": {
   "codemirror_mode": {
    "name": "ipython",
    "version": 3
   },
   "file_extension": ".py",
   "mimetype": "text/x-python",
   "name": "python",
   "nbconvert_exporter": "python",
   "pygments_lexer": "ipython3",
   "version": "3.5.5"
  }
 },
 "nbformat": 4,
 "nbformat_minor": 2
}
