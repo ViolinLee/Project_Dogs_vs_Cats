{
 "cells": [
  {
   "cell_type": "code",
   "execution_count": 1,
   "metadata": {},
   "outputs": [
    {
     "name": "stderr",
     "output_type": "stream",
     "text": [
      "/home/leechan/anaconda3/envs/DLCNN/lib/python3.5/site-packages/h5py/__init__.py:36: FutureWarning: Conversion of the second argument of issubdtype from `float` to `np.floating` is deprecated. In future, it will be treated as `np.float64 == np.dtype(float).type`.\n",
      "  from ._conv import register_converters as _register_converters\n",
      "Using TensorFlow backend.\n"
     ]
    },
    {
     "data": {
      "text/plain": [
       "'2.1.6'"
      ]
     },
     "execution_count": 1,
     "metadata": {},
     "output_type": "execute_result"
    }
   ],
   "source": [
    "import keras\n",
    "keras.__version__"
   ]
  },
  {
   "cell_type": "markdown",
   "metadata": {},
   "source": [
    "### 准备数据"
   ]
  },
  {
   "cell_type": "code",
   "execution_count": 7,
   "metadata": {},
   "outputs": [],
   "source": [
    "import os, shutil\n",
    "\n",
    "# defined directories of training set, validation set and test set\n",
    "origin_train_dir = '/home/leechan/Documents/Capstone_Dog vs. Cats/Project_Dogs_vs_Cats/Dataset_Dogs_vs_Cats/train'\n",
    "origin_test_dir = '/home/leechan/Documents/Capstone_Dog vs. Cats/Project_Dogs_vs_Cats/Dataset_Dogs_vs_Cats/test1'\n",
    "base_dir = '/home/leechan/Documents/Capstone_Dog vs. Cats/Project_Dogs_vs_Cats/Dataset_Dogs_vs_Cats/base'\n",
    "os.mkdir(base_dir)\n",
    "\n",
    "train_dir = os.path.join(base_dir, 'train_dir')\n",
    "os.mkdir(train_dir)\n",
    "\n",
    "validation_dir = os.path.join(base_dir, 'validation_dir')\n",
    "os.mkdir(validation_dir)\n",
    "\n",
    "test_dir = os.path.join(base_dir, 'test_dir')\n",
    "os.mkdir(test_dir)\n",
    "\n",
    "# defined more specific directory with dog or cat pictures\n",
    "train_cats_dir = os.path.join(train_dir, 'cats')\n",
    "os.mkdir(train_cats_dir)\n",
    "\n",
    "train_dogs_dir = os.path.join(train_dir, 'dogs')\n",
    "os.mkdir(train_dogs_dir)\n",
    "\n",
    "validation_cats_dir = os.path.join(validation_dir, 'cats')\n",
    "os.mkdir(validation_cats_dir)\n",
    "\n",
    "validation_dogs_dir = os.path.join(validation_dir, 'dogs')\n",
    "os.mkdir(validation_dogs_dir)\n",
    "\n",
    "# for feature extraction\n",
    "test_image_dir = os.path.join(test_dir, 'test')\n",
    "os.mkdir(test_image_dir)\n",
    "\n",
    "# Copy images to the above defined directories\n",
    "filenames = ['cat.{}.jpg'.format(i) for i in range(10000)]\n",
    "for filename in filenames:\n",
    "    src = os.path.join(origin_train_dir, filename)\n",
    "    dst = os.path.join(train_cats_dir, filename)\n",
    "    shutil.copyfile(src, dst)\n",
    "    \n",
    "filenames = ['dog.{}.jpg'.format(i) for i in range(10000)]\n",
    "for filename in filenames:\n",
    "    src = os.path.join(origin_train_dir, filename)\n",
    "    dst = os.path.join(train_dogs_dir, filename)\n",
    "    shutil.copyfile(src, dst)\n",
    "    \n",
    "filenames = ['cat.{}.jpg'.format(i) for i in range(10000, 12500)]\n",
    "for filename in filenames:\n",
    "    src = os.path.join(origin_train_dir, filename)\n",
    "    dst = os.path.join(validation_cats_dir, filename)\n",
    "    shutil.copyfile(src, dst)\n",
    "    \n",
    "filenames = ['dog.{}.jpg'.format(i) for i in range(10000, 12500)]\n",
    "for filename in filenames:\n",
    "    src = os.path.join(origin_train_dir, filename)\n",
    "    dst = os.path.join(validation_dogs_dir, filename)\n",
    "    shutil.copyfile(src, dst)\n",
    "\n",
    "filenames = ['{}.jpg'.format(i) for i in range(1,12501)]\n",
    "for filename in filenames:\n",
    "    src = os.path.join(origin_test_dir, filename)\n",
    "    dst = os.path.join(test_image_dir, filename)\n",
    "    shutil.copyfile(src, dst)"
   ]
  },
  {
   "cell_type": "markdown",
   "metadata": {},
   "source": [
    "在这里我们可以发现，在测试集和验证集中，两种类别的图片数量是相同的（事实上我们从Kaggle网站也可以确定测试集也存在这个特点）。因此这是一个平衡的二元分类问题（balanced binary classification），这意味着分类精度（accuracy）是一个合适的衡量分类结果好坏的标准。\n"
   ]
  },
  {
   "cell_type": "markdown",
   "metadata": {},
   "source": [
    "### 搭建CNN模型\n",
    "设计一个比随机猜测结果要好的基础模型。"
   ]
  },
  {
   "cell_type": "code",
   "execution_count": 29,
   "metadata": {},
   "outputs": [],
   "source": [
    "from keras import layers\n",
    "from keras import models\n",
    "\n",
    "model = models.Sequential()\n",
    "model.add(layers.Conv2D(32, (3, 3), activation='relu',\n",
    "                        input_shape=(150, 150, 3)))\n",
    "model.add(layers.MaxPooling2D((2, 2)))\n",
    "model.add(layers.Conv2D(64, (3, 3), activation='relu'))\n",
    "model.add(layers.MaxPooling2D((2, 2)))\n",
    "model.add(layers.Conv2D(128, (3, 3), activation='relu'))\n",
    "model.add(layers.MaxPooling2D((2, 2)))\n",
    "model.add(layers.Conv2D(128, (3, 3), activation='relu'))\n",
    "model.add(layers.MaxPooling2D((2, 2)))\n",
    "model.add(layers.Flatten())\n",
    "model.add(layers.Dense(512, activation='relu'))\n",
    "model.add(layers.Dense(1, activation='sigmoid'))"
   ]
  },
  {
   "cell_type": "code",
   "execution_count": 30,
   "metadata": {},
   "outputs": [
    {
     "name": "stdout",
     "output_type": "stream",
     "text": [
      "_________________________________________________________________\n",
      "Layer (type)                 Output Shape              Param #   \n",
      "=================================================================\n",
      "conv2d_17 (Conv2D)           (None, 148, 148, 32)      896       \n",
      "_________________________________________________________________\n",
      "max_pooling2d_17 (MaxPooling (None, 74, 74, 32)        0         \n",
      "_________________________________________________________________\n",
      "conv2d_18 (Conv2D)           (None, 72, 72, 64)        18496     \n",
      "_________________________________________________________________\n",
      "max_pooling2d_18 (MaxPooling (None, 36, 36, 64)        0         \n",
      "_________________________________________________________________\n",
      "conv2d_19 (Conv2D)           (None, 34, 34, 128)       73856     \n",
      "_________________________________________________________________\n",
      "max_pooling2d_19 (MaxPooling (None, 17, 17, 128)       0         \n",
      "_________________________________________________________________\n",
      "conv2d_20 (Conv2D)           (None, 15, 15, 128)       147584    \n",
      "_________________________________________________________________\n",
      "max_pooling2d_20 (MaxPooling (None, 7, 7, 128)         0         \n",
      "_________________________________________________________________\n",
      "flatten_5 (Flatten)          (None, 6272)              0         \n",
      "_________________________________________________________________\n",
      "dense_9 (Dense)              (None, 512)               3211776   \n",
      "_________________________________________________________________\n",
      "dense_10 (Dense)             (None, 1)                 513       \n",
      "=================================================================\n",
      "Total params: 3,453,121\n",
      "Trainable params: 3,453,121\n",
      "Non-trainable params: 0\n",
      "_________________________________________________________________\n"
     ]
    }
   ],
   "source": [
    "model.summary()"
   ]
  },
  {
   "cell_type": "code",
   "execution_count": 31,
   "metadata": {},
   "outputs": [],
   "source": [
    "from keras import optimizers\n",
    "\n",
    "model.compile(loss='binary_crossentropy',\n",
    "              optimizer=optimizers.RMSprop(lr=1e-4),\n",
    "              metrics=['acc'])"
   ]
  },
  {
   "cell_type": "code",
   "execution_count": 32,
   "metadata": {},
   "outputs": [
    {
     "name": "stdout",
     "output_type": "stream",
     "text": [
      "Found 20000 images belonging to 2 classes.\n",
      "Found 5000 images belonging to 2 classes.\n"
     ]
    }
   ],
   "source": [
    "from keras.preprocessing.image import ImageDataGenerator\n",
    "\n",
    "# All images will be rescaled by 1./255\n",
    "train_datagen = ImageDataGenerator(rescale=1./255)\n",
    "test_datagen = ImageDataGenerator(rescale=1./255)\n",
    "\n",
    "train_generator = train_datagen.flow_from_directory(\n",
    "        # This is the target directory\n",
    "        train_dir,\n",
    "        # All images will be resized to 150x150\n",
    "        target_size=(150, 150),\n",
    "        batch_size=50,\n",
    "        # Since we use binary_crossentropy loss, we need binary labels\n",
    "        class_mode='binary')\n",
    "\n",
    "validation_generator = test_datagen.flow_from_directory(\n",
    "        validation_dir,\n",
    "        target_size=(150, 150),\n",
    "        batch_size=50,\n",
    "        class_mode='binary')"
   ]
  },
  {
   "cell_type": "code",
   "execution_count": 33,
   "metadata": {},
   "outputs": [
    {
     "name": "stdout",
     "output_type": "stream",
     "text": [
      "Epoch 1/30\n",
      "400/400 [==============================] - 77s 192ms/step - loss: 0.6347 - acc: 0.6294 - val_loss: 0.5559 - val_acc: 0.7136\n",
      "Epoch 2/30\n",
      "400/400 [==============================] - 75s 187ms/step - loss: 0.5334 - acc: 0.7280 - val_loss: 0.4938 - val_acc: 0.7650\n",
      "Epoch 3/30\n",
      "400/400 [==============================] - 75s 187ms/step - loss: 0.4763 - acc: 0.7718 - val_loss: 0.4753 - val_acc: 0.7632\n",
      "Epoch 4/30\n",
      "400/400 [==============================] - 75s 188ms/step - loss: 0.4407 - acc: 0.7950 - val_loss: 0.4849 - val_acc: 0.7744\n",
      "Epoch 5/30\n",
      "400/400 [==============================] - 75s 187ms/step - loss: 0.4083 - acc: 0.8135 - val_loss: 0.4114 - val_acc: 0.8116\n",
      "Epoch 6/30\n",
      "400/400 [==============================] - 75s 187ms/step - loss: 0.3857 - acc: 0.8286 - val_loss: 0.3924 - val_acc: 0.8208\n",
      "Epoch 7/30\n",
      "400/400 [==============================] - 75s 188ms/step - loss: 0.3650 - acc: 0.8386 - val_loss: 0.4074 - val_acc: 0.8204\n",
      "Epoch 8/30\n",
      "400/400 [==============================] - 75s 187ms/step - loss: 0.3441 - acc: 0.8476 - val_loss: 0.3626 - val_acc: 0.8376\n",
      "Epoch 9/30\n",
      "400/400 [==============================] - 75s 188ms/step - loss: 0.3205 - acc: 0.8605 - val_loss: 0.3624 - val_acc: 0.8416\n",
      "Epoch 10/30\n",
      "400/400 [==============================] - 75s 187ms/step - loss: 0.2998 - acc: 0.8716 - val_loss: 0.3757 - val_acc: 0.8334\n",
      "Epoch 11/30\n",
      "400/400 [==============================] - 75s 187ms/step - loss: 0.2795 - acc: 0.8792 - val_loss: 0.3445 - val_acc: 0.8534\n",
      "Epoch 12/30\n",
      "400/400 [==============================] - 75s 188ms/step - loss: 0.2605 - acc: 0.8911 - val_loss: 0.3420 - val_acc: 0.8508\n",
      "Epoch 13/30\n",
      "400/400 [==============================] - 75s 188ms/step - loss: 0.2405 - acc: 0.9004 - val_loss: 0.4376 - val_acc: 0.8034\n",
      "Epoch 14/30\n",
      "400/400 [==============================] - 75s 188ms/step - loss: 0.2221 - acc: 0.9101 - val_loss: 0.3346 - val_acc: 0.8614\n",
      "Epoch 15/30\n",
      "400/400 [==============================] - 75s 188ms/step - loss: 0.2018 - acc: 0.9193 - val_loss: 0.3410 - val_acc: 0.8582\n",
      "Epoch 16/30\n",
      "400/400 [==============================] - 75s 188ms/step - loss: 0.1817 - acc: 0.9261 - val_loss: 0.3448 - val_acc: 0.8612\n",
      "Epoch 17/30\n",
      "400/400 [==============================] - 75s 187ms/step - loss: 0.1638 - acc: 0.9365 - val_loss: 0.6041 - val_acc: 0.7886\n",
      "Epoch 18/30\n",
      "400/400 [==============================] - 75s 187ms/step - loss: 0.1446 - acc: 0.9453 - val_loss: 0.3516 - val_acc: 0.8582\n",
      "Epoch 19/30\n",
      "400/400 [==============================] - 75s 187ms/step - loss: 0.1303 - acc: 0.9496 - val_loss: 0.3601 - val_acc: 0.8602\n",
      "Epoch 20/30\n",
      "400/400 [==============================] - 75s 187ms/step - loss: 0.1144 - acc: 0.9571 - val_loss: 0.4570 - val_acc: 0.8528\n",
      "Epoch 21/30\n",
      "400/400 [==============================] - 75s 187ms/step - loss: 0.0973 - acc: 0.9641 - val_loss: 0.3886 - val_acc: 0.8612\n",
      "Epoch 22/30\n",
      "400/400 [==============================] - 75s 187ms/step - loss: 0.0851 - acc: 0.9694 - val_loss: 0.4603 - val_acc: 0.8556\n",
      "Epoch 23/30\n",
      "400/400 [==============================] - 75s 187ms/step - loss: 0.0722 - acc: 0.9736 - val_loss: 0.4609 - val_acc: 0.8592\n",
      "Epoch 24/30\n",
      "400/400 [==============================] - 75s 188ms/step - loss: 0.0629 - acc: 0.9793 - val_loss: 0.4356 - val_acc: 0.8628\n",
      "Epoch 25/30\n",
      "400/400 [==============================] - 75s 187ms/step - loss: 0.0522 - acc: 0.9833 - val_loss: 0.4466 - val_acc: 0.8586\n",
      "Epoch 26/30\n",
      "400/400 [==============================] - 75s 188ms/step - loss: 0.0470 - acc: 0.9839 - val_loss: 0.5360 - val_acc: 0.8406\n",
      "Epoch 27/30\n",
      "400/400 [==============================] - 75s 187ms/step - loss: 0.0424 - acc: 0.9869 - val_loss: 0.5242 - val_acc: 0.8600\n",
      "Epoch 28/30\n",
      "400/400 [==============================] - 75s 188ms/step - loss: 0.0337 - acc: 0.9892 - val_loss: 0.7243 - val_acc: 0.8390\n",
      "Epoch 29/30\n",
      "400/400 [==============================] - 75s 188ms/step - loss: 0.0289 - acc: 0.9913 - val_loss: 0.5098 - val_acc: 0.8646\n",
      "Epoch 30/30\n",
      "400/400 [==============================] - 75s 187ms/step - loss: 0.0256 - acc: 0.9917 - val_loss: 0.6467 - val_acc: 0.8578\n"
     ]
    }
   ],
   "source": [
    "history = model.fit_generator(\n",
    "      train_generator,\n",
    "      steps_per_epoch=400,\n",
    "      epochs=30,\n",
    "      validation_data=validation_generator,\n",
    "      validation_steps=100)"
   ]
  },
  {
   "cell_type": "code",
   "execution_count": 34,
   "metadata": {},
   "outputs": [],
   "source": [
    "model.save('cats_vs_dogs_basic_1.h5')"
   ]
  },
  {
   "cell_type": "code",
   "execution_count": 35,
   "metadata": {},
   "outputs": [
    {
     "data": {
      "image/png": "[encoded data removed]",
      "text/plain": [
       "<Figure size 432x288 with 1 Axes>"
      ]
     },
     "metadata": {},
     "output_type": "display_data"
    },
    {
     "data": {
      "image/png": "[encoded data removed]",
      "text/plain": [
       "<Figure size 432x288 with 1 Axes>"
      ]
     },
     "metadata": {},
     "output_type": "display_data"
    }
   ],
   "source": [
    "import matplotlib.pyplot as plt\n",
    "\n",
    "acc = history.history['acc']\n",
    "val_acc = history.history['val_acc']\n",
    "loss = history.history['loss']\n",
    "val_loss = history.history['val_loss']\n",
    "\n",
    "epochs = range(len(acc))\n",
    "\n",
    "plt.plot(epochs, acc, 'bo', label='Training acc')\n",
    "plt.plot(epochs, val_acc, 'b', label='Validation acc')\n",
    "plt.title('Training and validation accuracy')\n",
    "plt.legend()\n",
    "\n",
    "plt.figure()\n",
    "\n",
    "plt.plot(epochs, loss, 'bo', label='Training loss')\n",
    "plt.plot(epochs, val_loss, 'b', label='Validation loss')\n",
    "plt.title('Training and validation loss')\n",
    "plt.legend()\n",
    "\n",
    "plt.show()"
   ]
  },
  {
   "cell_type": "markdown",
   "metadata": {},
   "source": [
    "在验证集上的分类准确率大概为85%左右。"
   ]
  },
  {
   "cell_type": "markdown",
   "metadata": {},
   "source": [
    "### 使用数据增强技术\n",
    "如果使用这个数据增强的配置来训练一个新的网络，是不会有两次相同的输入的。但是，这些输入仍然是相互关联的，因为它们来自少量的原始图像，我们不能产生新的信息，而只能重新混合现有的信息。因此，这可能不足以完全摆脱过度拟合。为了进一步克服过度拟合，我们还将在我们的模型中全连接层分类器的前面添加一个dropout层："
   ]
  },
  {
   "cell_type": "code",
   "execution_count": 41,
   "metadata": {},
   "outputs": [],
   "source": [
    "model = models.Sequential()\n",
    "model.add(layers.Conv2D(32, (3, 3), activation='relu',\n",
    "                        input_shape=(150, 150, 3)))\n",
    "model.add(layers.MaxPooling2D((2, 2)))\n",
    "model.add(layers.Conv2D(64, (3, 3), activation='relu'))\n",
    "model.add(layers.MaxPooling2D((2, 2)))\n",
    "model.add(layers.Conv2D(128, (3, 3), activation='relu'))\n",
    "model.add(layers.MaxPooling2D((2, 2)))\n",
    "model.add(layers.Conv2D(128, (3, 3), activation='relu'))\n",
    "model.add(layers.MaxPooling2D((2, 2)))\n",
    "model.add(layers.Flatten())\n",
    "model.add(layers.Dropout(0.5))\n",
    "model.add(layers.Dense(512, activation='relu'))\n",
    "model.add(layers.Dense(1, activation='sigmoid'))\n",
    "\n",
    "model.compile(loss='binary_crossentropy',\n",
    "              optimizer=optimizers.RMSprop(lr=1e-4),\n",
    "              metrics=['acc'])"
   ]
  },
  {
   "cell_type": "code",
   "execution_count": 42,
   "metadata": {},
   "outputs": [
    {
     "name": "stdout",
     "output_type": "stream",
     "text": [
      "Found 20000 images belonging to 2 classes.\n",
      "Found 5000 images belonging to 2 classes.\n",
      "Epoch 1/100\n",
      "400/400 [==============================] - 184s 460ms/step - loss: 0.6621 - acc: 0.5931 - val_loss: 0.5971 - val_acc: 0.6734\n",
      "Epoch 2/100\n",
      "400/400 [==============================] - 179s 448ms/step - loss: 0.6081 - acc: 0.6633 - val_loss: 0.5401 - val_acc: 0.7372\n",
      "Epoch 3/100\n",
      "400/400 [==============================] - 182s 454ms/step - loss: 0.5775 - acc: 0.6933 - val_loss: 0.5008 - val_acc: 0.7713\n",
      "Epoch 4/100\n",
      "400/400 [==============================] - 180s 449ms/step - loss: 0.5490 - acc: 0.7172 - val_loss: 0.5214 - val_acc: 0.7480\n",
      "Epoch 5/100\n",
      "400/400 [==============================] - 178s 445ms/step - loss: 0.5315 - acc: 0.7303 - val_loss: 0.4644 - val_acc: 0.7909\n",
      "Epoch 6/100\n",
      "400/400 [==============================] - 182s 455ms/step - loss: 0.5152 - acc: 0.7448 - val_loss: 0.4498 - val_acc: 0.7934\n",
      "Epoch 7/100\n",
      "400/400 [==============================] - 178s 445ms/step - loss: 0.5027 - acc: 0.7526 - val_loss: 0.4315 - val_acc: 0.7993\n",
      "Epoch 8/100\n",
      "400/400 [==============================] - 178s 445ms/step - loss: 0.4863 - acc: 0.7652 - val_loss: 0.4397 - val_acc: 0.7967\n",
      "Epoch 9/100\n",
      "400/400 [==============================] - 178s 446ms/step - loss: 0.4788 - acc: 0.7707 - val_loss: 0.4059 - val_acc: 0.8216\n",
      "Epoch 10/100\n",
      "400/400 [==============================] - 178s 446ms/step - loss: 0.4668 - acc: 0.7805 - val_loss: 0.3875 - val_acc: 0.8283\n",
      "Epoch 11/100\n",
      "400/400 [==============================] - 181s 453ms/step - loss: 0.4610 - acc: 0.7807 - val_loss: 0.3881 - val_acc: 0.8289\n",
      "Epoch 12/100\n",
      "400/400 [==============================] - 180s 449ms/step - loss: 0.4465 - acc: 0.7910 - val_loss: 0.4122 - val_acc: 0.8205\n",
      "Epoch 13/100\n",
      "400/400 [==============================] - 178s 446ms/step - loss: 0.4387 - acc: 0.7956 - val_loss: 0.3944 - val_acc: 0.8188\n",
      "Epoch 14/100\n",
      "400/400 [==============================] - 178s 445ms/step - loss: 0.4253 - acc: 0.8029 - val_loss: 0.3930 - val_acc: 0.8257\n",
      "Epoch 15/100\n",
      "400/400 [==============================] - 178s 446ms/step - loss: 0.4192 - acc: 0.8082 - val_loss: 0.4138 - val_acc: 0.8155\n",
      "Epoch 16/100\n",
      "400/400 [==============================] - 180s 451ms/step - loss: 0.4109 - acc: 0.8112 - val_loss: 0.3623 - val_acc: 0.8441\n",
      "Epoch 17/100\n",
      "400/400 [==============================] - 178s 446ms/step - loss: 0.4027 - acc: 0.8154 - val_loss: 0.3736 - val_acc: 0.8394\n",
      "Epoch 18/100\n",
      "400/400 [==============================] - 178s 445ms/step - loss: 0.3909 - acc: 0.8240 - val_loss: 0.3439 - val_acc: 0.8529\n",
      "Epoch 19/100\n",
      "400/400 [==============================] - 179s 448ms/step - loss: 0.3883 - acc: 0.8228 - val_loss: 0.3364 - val_acc: 0.8556\n",
      "Epoch 20/100\n",
      "400/400 [==============================] - 178s 444ms/step - loss: 0.3778 - acc: 0.8299 - val_loss: 0.3689 - val_acc: 0.8359\n",
      "Epoch 21/100\n",
      "400/400 [==============================] - 181s 452ms/step - loss: 0.3742 - acc: 0.8323 - val_loss: 0.3709 - val_acc: 0.8315\n",
      "Epoch 22/100\n",
      "400/400 [==============================] - 180s 449ms/step - loss: 0.3683 - acc: 0.8356 - val_loss: 0.3321 - val_acc: 0.8579\n",
      "Epoch 23/100\n",
      "400/400 [==============================] - 179s 447ms/step - loss: 0.3627 - acc: 0.8374 - val_loss: 0.3406 - val_acc: 0.8514\n",
      "Epoch 24/100\n",
      "400/400 [==============================] - 179s 447ms/step - loss: 0.3512 - acc: 0.8456 - val_loss: 0.3383 - val_acc: 0.8634\n",
      "Epoch 25/100\n",
      "400/400 [==============================] - 178s 445ms/step - loss: 0.3491 - acc: 0.8460 - val_loss: 0.2910 - val_acc: 0.8823\n",
      "Epoch 26/100\n",
      "400/400 [==============================] - 179s 447ms/step - loss: 0.3400 - acc: 0.8521 - val_loss: 0.2971 - val_acc: 0.8810\n",
      "Epoch 27/100\n",
      "400/400 [==============================] - 178s 446ms/step - loss: 0.3306 - acc: 0.8545 - val_loss: 0.4067 - val_acc: 0.8343\n",
      "Epoch 28/100\n",
      "400/400 [==============================] - 179s 448ms/step - loss: 0.3263 - acc: 0.8577 - val_loss: 0.2564 - val_acc: 0.8927\n",
      "Epoch 29/100\n",
      "400/400 [==============================] - 181s 452ms/step - loss: 0.3260 - acc: 0.8572 - val_loss: 0.2590 - val_acc: 0.8955\n",
      "Epoch 30/100\n",
      "400/400 [==============================] - 178s 446ms/step - loss: 0.3198 - acc: 0.8592 - val_loss: 0.2523 - val_acc: 0.8938\n",
      "Epoch 31/100\n",
      "400/400 [==============================] - 178s 446ms/step - loss: 0.3130 - acc: 0.8649 - val_loss: 0.2459 - val_acc: 0.8977\n",
      "Epoch 32/100\n",
      "400/400 [==============================] - 179s 447ms/step - loss: 0.3025 - acc: 0.8678 - val_loss: 0.2843 - val_acc: 0.8886\n",
      "Epoch 33/100\n",
      "400/400 [==============================] - 178s 446ms/step - loss: 0.3097 - acc: 0.8651 - val_loss: 0.2356 - val_acc: 0.9057\n",
      "Epoch 34/100\n",
      "400/400 [==============================] - 178s 446ms/step - loss: 0.3012 - acc: 0.8699 - val_loss: 0.2815 - val_acc: 0.8836\n",
      "Epoch 35/100\n",
      "400/400 [==============================] - 179s 449ms/step - loss: 0.2994 - acc: 0.8714 - val_loss: 0.2664 - val_acc: 0.8921\n",
      "Epoch 36/100\n",
      "400/400 [==============================] - 178s 446ms/step - loss: 0.2900 - acc: 0.8731 - val_loss: 0.2490 - val_acc: 0.8970\n",
      "Epoch 37/100\n",
      "400/400 [==============================] - 178s 446ms/step - loss: 0.2923 - acc: 0.8738 - val_loss: 0.2545 - val_acc: 0.8961\n",
      "Epoch 38/100\n",
      "400/400 [==============================] - 178s 446ms/step - loss: 0.2888 - acc: 0.8771 - val_loss: 0.3646 - val_acc: 0.8422\n",
      "Epoch 39/100\n",
      "400/400 [==============================] - 178s 446ms/step - loss: 0.2819 - acc: 0.8786 - val_loss: 0.2530 - val_acc: 0.9022\n",
      "Epoch 40/100\n",
      "400/400 [==============================] - 178s 444ms/step - loss: 0.2801 - acc: 0.8804 - val_loss: 0.2637 - val_acc: 0.8954\n",
      "Epoch 41/100\n",
      "400/400 [==============================] - 178s 445ms/step - loss: 0.2794 - acc: 0.8809 - val_loss: 0.2856 - val_acc: 0.8928\n",
      "Epoch 42/100\n",
      "400/400 [==============================] - 178s 444ms/step - loss: 0.2741 - acc: 0.8840 - val_loss: 0.2290 - val_acc: 0.9083\n",
      "Epoch 43/100\n",
      "400/400 [==============================] - 178s 446ms/step - loss: 0.2697 - acc: 0.8858 - val_loss: 0.2250 - val_acc: 0.9112\n",
      "Epoch 44/100\n",
      "400/400 [==============================] - 179s 447ms/step - loss: 0.2667 - acc: 0.8861 - val_loss: 0.2126 - val_acc: 0.9132\n",
      "Epoch 45/100\n",
      "400/400 [==============================] - 178s 445ms/step - loss: 0.2650 - acc: 0.8882 - val_loss: 0.2177 - val_acc: 0.9149\n",
      "Epoch 46/100\n",
      "400/400 [==============================] - 178s 446ms/step - loss: 0.2639 - acc: 0.8879 - val_loss: 0.2564 - val_acc: 0.8953\n",
      "Epoch 47/100\n",
      "400/400 [==============================] - 178s 446ms/step - loss: 0.2597 - acc: 0.8890 - val_loss: 0.2247 - val_acc: 0.9115\n",
      "Epoch 48/100\n",
      "400/400 [==============================] - 178s 446ms/step - loss: 0.2610 - acc: 0.8882 - val_loss: 0.2441 - val_acc: 0.8984\n",
      "Epoch 49/100\n",
      "400/400 [==============================] - 178s 446ms/step - loss: 0.2559 - acc: 0.8929 - val_loss: 0.2238 - val_acc: 0.9118\n",
      "Epoch 50/100\n",
      "400/400 [==============================] - 179s 448ms/step - loss: 0.2540 - acc: 0.8924 - val_loss: 0.1934 - val_acc: 0.9259\n",
      "Epoch 51/100\n",
      "400/400 [==============================] - 178s 446ms/step - loss: 0.2485 - acc: 0.8953 - val_loss: 0.2235 - val_acc: 0.9144\n",
      "Epoch 52/100\n",
      "400/400 [==============================] - 180s 449ms/step - loss: 0.2426 - acc: 0.8998 - val_loss: 0.2427 - val_acc: 0.9085\n",
      "Epoch 53/100\n",
      "400/400 [==============================] - 178s 446ms/step - loss: 0.2489 - acc: 0.8924 - val_loss: 0.1825 - val_acc: 0.9280\n",
      "Epoch 54/100\n",
      "400/400 [==============================] - 182s 455ms/step - loss: 0.2439 - acc: 0.8979 - val_loss: 0.2419 - val_acc: 0.9026\n",
      "Epoch 55/100\n",
      "400/400 [==============================] - 179s 446ms/step - loss: 0.2411 - acc: 0.8989 - val_loss: 0.2576 - val_acc: 0.9043\n",
      "Epoch 56/100\n",
      "400/400 [==============================] - 179s 446ms/step - loss: 0.2449 - acc: 0.8979 - val_loss: 0.2776 - val_acc: 0.8941\n",
      "Epoch 57/100\n",
      "400/400 [==============================] - 178s 445ms/step - loss: 0.2369 - acc: 0.9024 - val_loss: 0.2172 - val_acc: 0.9134\n",
      "Epoch 58/100\n",
      "400/400 [==============================] - 178s 446ms/step - loss: 0.2397 - acc: 0.8976 - val_loss: 0.2841 - val_acc: 0.8921\n",
      "Epoch 59/100\n",
      "400/400 [==============================] - 179s 448ms/step - loss: 0.2371 - acc: 0.8989 - val_loss: 0.2259 - val_acc: 0.9047\n"
     ]
    },
    {
     "name": "stdout",
     "output_type": "stream",
     "text": [
      "Epoch 60/100\n",
      "400/400 [==============================] - 178s 445ms/step - loss: 0.2343 - acc: 0.9002 - val_loss: 0.2289 - val_acc: 0.9116\n",
      "Epoch 61/100\n",
      "400/400 [==============================] - 178s 445ms/step - loss: 0.2286 - acc: 0.9057 - val_loss: 0.1971 - val_acc: 0.9270\n",
      "Epoch 62/100\n",
      "400/400 [==============================] - 179s 448ms/step - loss: 0.2317 - acc: 0.9038 - val_loss: 0.2098 - val_acc: 0.9214\n",
      "Epoch 63/100\n",
      "400/400 [==============================] - 179s 446ms/step - loss: 0.2303 - acc: 0.9044 - val_loss: 0.1905 - val_acc: 0.9269\n",
      "Epoch 64/100\n",
      "400/400 [==============================] - 178s 446ms/step - loss: 0.2236 - acc: 0.9067 - val_loss: 0.2456 - val_acc: 0.9076\n",
      "Epoch 65/100\n",
      "400/400 [==============================] - 178s 444ms/step - loss: 0.2301 - acc: 0.9032 - val_loss: 0.1938 - val_acc: 0.9220\n",
      "Epoch 66/100\n",
      "400/400 [==============================] - 179s 447ms/step - loss: 0.2250 - acc: 0.9053 - val_loss: 0.2292 - val_acc: 0.9078\n",
      "Epoch 67/100\n",
      "400/400 [==============================] - 178s 445ms/step - loss: 0.2262 - acc: 0.9050 - val_loss: 0.1862 - val_acc: 0.9283\n",
      "Epoch 68/100\n",
      "400/400 [==============================] - 183s 457ms/step - loss: 0.2212 - acc: 0.9081 - val_loss: 0.1735 - val_acc: 0.9297\n",
      "Epoch 69/100\n",
      "400/400 [==============================] - 178s 445ms/step - loss: 0.2273 - acc: 0.9064 - val_loss: 0.1724 - val_acc: 0.9316\n",
      "Epoch 70/100\n",
      "400/400 [==============================] - 178s 444ms/step - loss: 0.2252 - acc: 0.9064 - val_loss: 0.1725 - val_acc: 0.9313\n",
      "Epoch 71/100\n",
      "400/400 [==============================] - 178s 446ms/step - loss: 0.2232 - acc: 0.9086 - val_loss: 0.1846 - val_acc: 0.9273\n",
      "Epoch 72/100\n",
      "400/400 [==============================] - 179s 448ms/step - loss: 0.2259 - acc: 0.9072 - val_loss: 0.1879 - val_acc: 0.9237\n",
      "Epoch 73/100\n",
      "400/400 [==============================] - 178s 444ms/step - loss: 0.2193 - acc: 0.9066 - val_loss: 0.1817 - val_acc: 0.9342\n",
      "Epoch 74/100\n",
      "400/400 [==============================] - 178s 446ms/step - loss: 0.2205 - acc: 0.9098 - val_loss: 0.1915 - val_acc: 0.9313\n",
      "Epoch 75/100\n",
      "400/400 [==============================] - 177s 443ms/step - loss: 0.2187 - acc: 0.9101 - val_loss: 0.1975 - val_acc: 0.9230\n",
      "Epoch 76/100\n",
      "400/400 [==============================] - 177s 443ms/step - loss: 0.2179 - acc: 0.9099 - val_loss: 0.1793 - val_acc: 0.9335\n",
      "Epoch 77/100\n",
      "400/400 [==============================] - 177s 443ms/step - loss: 0.2182 - acc: 0.9083 - val_loss: 0.1910 - val_acc: 0.9316\n",
      "Epoch 78/100\n",
      "400/400 [==============================] - 178s 445ms/step - loss: 0.2200 - acc: 0.9097 - val_loss: 0.1614 - val_acc: 0.9376\n",
      "Epoch 79/100\n",
      "400/400 [==============================] - 178s 444ms/step - loss: 0.2118 - acc: 0.9125 - val_loss: 0.1848 - val_acc: 0.9273\n",
      "Epoch 80/100\n",
      "400/400 [==============================] - 178s 445ms/step - loss: 0.2171 - acc: 0.9094 - val_loss: 0.1887 - val_acc: 0.9286\n",
      "Epoch 81/100\n",
      "400/400 [==============================] - 177s 442ms/step - loss: 0.2179 - acc: 0.9093 - val_loss: 0.1712 - val_acc: 0.9330\n",
      "Epoch 82/100\n",
      "400/400 [==============================] - 177s 444ms/step - loss: 0.2195 - acc: 0.9083 - val_loss: 0.1662 - val_acc: 0.9338\n",
      "Epoch 83/100\n",
      "400/400 [==============================] - 179s 447ms/step - loss: 0.2142 - acc: 0.9111 - val_loss: 0.1736 - val_acc: 0.9343\n",
      "Epoch 84/100\n",
      "400/400 [==============================] - 177s 443ms/step - loss: 0.2171 - acc: 0.9120 - val_loss: 0.1952 - val_acc: 0.9228\n",
      "Epoch 85/100\n",
      "400/400 [==============================] - 178s 445ms/step - loss: 0.2106 - acc: 0.9132 - val_loss: 0.1804 - val_acc: 0.9328\n",
      "Epoch 86/100\n",
      "400/400 [==============================] - 178s 446ms/step - loss: 0.2096 - acc: 0.9134 - val_loss: 0.1560 - val_acc: 0.9368\n",
      "Epoch 87/100\n",
      "400/400 [==============================] - 178s 445ms/step - loss: 0.2113 - acc: 0.9125 - val_loss: 0.1946 - val_acc: 0.9292\n",
      "Epoch 88/100\n",
      "400/400 [==============================] - 177s 443ms/step - loss: 0.2151 - acc: 0.9120 - val_loss: 0.2867 - val_acc: 0.8991\n",
      "Epoch 89/100\n",
      "400/400 [==============================] - 179s 448ms/step - loss: 0.2122 - acc: 0.9125 - val_loss: 0.1838 - val_acc: 0.9283\n",
      "Epoch 90/100\n",
      "400/400 [==============================] - 177s 443ms/step - loss: 0.2098 - acc: 0.9113 - val_loss: 0.1851 - val_acc: 0.9325\n",
      "Epoch 91/100\n",
      "400/400 [==============================] - 178s 445ms/step - loss: 0.2146 - acc: 0.9106 - val_loss: 0.1809 - val_acc: 0.9320\n",
      "Epoch 92/100\n",
      "400/400 [==============================] - 179s 447ms/step - loss: 0.2118 - acc: 0.9129 - val_loss: 0.1692 - val_acc: 0.9349\n",
      "Epoch 93/100\n",
      "400/400 [==============================] - 179s 448ms/step - loss: 0.2075 - acc: 0.9136 - val_loss: 0.1861 - val_acc: 0.9408\n",
      "Epoch 94/100\n",
      "400/400 [==============================] - 178s 444ms/step - loss: 0.2119 - acc: 0.9118 - val_loss: 0.1764 - val_acc: 0.9320\n",
      "Epoch 95/100\n",
      "400/400 [==============================] - 178s 445ms/step - loss: 0.2090 - acc: 0.9140 - val_loss: 0.2086 - val_acc: 0.9193\n",
      "Epoch 96/100\n",
      "400/400 [==============================] - 178s 444ms/step - loss: 0.2106 - acc: 0.9124 - val_loss: 0.1854 - val_acc: 0.9328\n",
      "Epoch 97/100\n",
      "400/400 [==============================] - 178s 444ms/step - loss: 0.2085 - acc: 0.9141 - val_loss: 0.1786 - val_acc: 0.9341\n",
      "Epoch 98/100\n",
      "400/400 [==============================] - 178s 444ms/step - loss: 0.2111 - acc: 0.9122 - val_loss: 0.2011 - val_acc: 0.9198\n",
      "Epoch 99/100\n",
      "400/400 [==============================] - 178s 444ms/step - loss: 0.2091 - acc: 0.9115 - val_loss: 0.2989 - val_acc: 0.8951\n",
      "Epoch 100/100\n",
      "400/400 [==============================] - 177s 443ms/step - loss: 0.2111 - acc: 0.9141 - val_loss: 0.2824 - val_acc: 0.8875\n"
     ]
    }
   ],
   "source": [
    "train_datagen = ImageDataGenerator(\n",
    "    rescale=1./255,\n",
    "    rotation_range=40,\n",
    "    width_shift_range=0.2,\n",
    "    height_shift_range=0.2,\n",
    "    shear_range=0.2,\n",
    "    zoom_range=0.2,\n",
    "    horizontal_flip=True,)\n",
    "\n",
    "# Note that the validation data should not be augmented!\n",
    "validation_datagen = ImageDataGenerator(rescale=1./255)\n",
    "\n",
    "train_generator = train_datagen.flow_from_directory(\n",
    "        train_dir,\n",
    "        target_size=(150, 150),\n",
    "        batch_size=70,\n",
    "        class_mode='binary')\n",
    "\n",
    "validation_generator = validation_datagen.flow_from_directory(\n",
    "        validation_dir,\n",
    "        target_size=(150, 150),\n",
    "        batch_size=70,\n",
    "        class_mode='binary')\n",
    "\n",
    "history = model.fit_generator(\n",
    "      train_generator,\n",
    "      steps_per_epoch=400,\n",
    "      epochs=100,\n",
    "      validation_data=validation_generator,\n",
    "      validation_steps=100)"
   ]
  },
  {
   "cell_type": "code",
   "execution_count": 43,
   "metadata": {},
   "outputs": [],
   "source": [
    "model.save('cats_vs_dogs_basic_2.h5')"
   ]
  },
  {
   "cell_type": "code",
   "execution_count": 44,
   "metadata": {},
   "outputs": [
    {
     "data": {
      "image/png": "[encoded data removed]",
      "text/plain": [
       "<Figure size 432x288 with 1 Axes>"
      ]
     },
     "metadata": {},
     "output_type": "display_data"
    },
    {
     "data": {
      "image/png": "[encoded data removed]",
      "text/plain": [
       "<Figure size 432x288 with 1 Axes>"
      ]
     },
     "metadata": {},
     "output_type": "display_data"
    }
   ],
   "source": [
    "acc = history.history['acc']\n",
    "val_acc = history.history['val_acc']\n",
    "loss = history.history['loss']\n",
    "val_loss = history.history['val_loss']\n",
    "\n",
    "epochs = range(len(acc))\n",
    "\n",
    "plt.plot(epochs, acc, 'bo', label='Training acc')\n",
    "plt.plot(epochs, val_acc, 'b', label='Validation acc')\n",
    "plt.title('Training and validation accuracy')\n",
    "plt.legend()\n",
    "\n",
    "plt.figure()\n",
    "\n",
    "plt.plot(epochs, loss, 'bo', label='Training loss')\n",
    "plt.plot(epochs, val_loss, 'b', label='Validation loss')\n",
    "plt.title('Training and validation loss')\n",
    "plt.legend()\n",
    "\n",
    "plt.show()"
   ]
  },
  {
   "cell_type": "code",
   "execution_count": null,
   "metadata": {},
   "outputs": [],
   "source": []
  }
 ],
 "metadata": {
  "kernelspec": {
   "display_name": "Python 3",
   "language": "python",
   "name": "python3"
  },
  "language_info": {
   "codemirror_mode": {
    "name": "ipython",
    "version": 3
   },
   "file_extension": ".py",
   "mimetype": "text/x-python",
   "name": "python",
   "nbconvert_exporter": "python",
   "pygments_lexer": "ipython3",
   "version": "3.5.5"
  }
 },
 "nbformat": 4,
 "nbformat_minor": 2
}
